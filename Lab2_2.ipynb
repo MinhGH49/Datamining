{
  "cells": [
    {
      "cell_type": "markdown",
      "source": [
        "\n",
        "MKTG5883.N21.CTTT Data mining\n",
        "\n",
        "Student: Trần Quang Minh, ID: 19521856\n",
        "\n",
        "Github: https://github.com/MinhGH49/Datamining\n",
        "\n",
        "Table of contents: \n"
      ],
      "metadata": {
        "id": "GkaibmmFXHBP"
      }
    },
    {
      "cell_type": "markdown",
      "source": [
        ">>>>[Import the data and get a high-level picture](#scrollTo=hiKDCIvD4LMq)\n",
        "\n",
        ">>>>[Question: Fix column datatypes](#scrollTo=KLox1Gny4LMu)\n",
        "\n",
        ">>>>>[Answer: 1. Fix ordered_at to datetime](#scrollTo=D7JzdVPZYRBX)\n",
        "\n",
        ">>>>>[Answer: 2. Fix price and line_total to float](#scrollTo=9NGjoDWDYdLd)\n",
        "\n",
        ">>>>[Question: drop if duplicated or null](#scrollTo=quS28WMK4LMv)\n",
        "\n",
        ">>>>>[Answer: 1. drop duplicates](#scrollTo=ZXu37rPOY5Lg)\n",
        "\n",
        ">>>>>[Anwser: 2. drop nulls](#scrollTo=bskVCz8EZEXz)\n",
        "\n",
        ">>>>[Sanity check for value ranges and to check assumptions](#scrollTo=fhYggzu64LMy)\n",
        "\n",
        ">>>>[Question: Set line_total = price * quantity if different, Remove if line total < 0](#scrollTo=lA92FUUj4LMz)\n",
        "\n",
        ">>>>>[Answer: set line_total = price * quantity](#scrollTo=fAXOS0sLZg16)\n",
        "\n",
        ">>>>>[Anser: remove negative line total](#scrollTo=JEdcig4NZstk)\n",
        "\n",
        ">>>>[Question: Get value between \"\" in name and put it in category column](#scrollTo=_-MhdQlI4LMz)\n",
        "\n",
        ">>>>>[Answer: Create new column \"category\" from \"name\"](#scrollTo=iGAoPbFdZ2SL)\n",
        "\n",
        ">>>>[Analysis, finally!](#scrollTo=xETahqiX4LM0)\n",
        "\n"
      ],
      "metadata": {
        "colab_type": "toc",
        "id": "AND0a7tCa0La"
      }
    },
    {
      "cell_type": "code",
      "execution_count": 64,
      "metadata": {
        "id": "LWFVnVB24LMo"
      },
      "outputs": [],
      "source": [
        "import pandas as pd\n",
        "import matplotlib.pyplot as plt\n",
        "import seaborn\n",
        "import re\n",
        "import numpy as np"
      ]
    },
    {
      "cell_type": "code",
      "source": [
        "from google.colab import drive\n",
        "drive.mount('/content/drive')"
      ],
      "metadata": {
        "id": "y-3KTCmz4ORO",
        "outputId": "45e917a9-6bee-4e35-d011-53c674a532b7",
        "colab": {
          "base_uri": "https://localhost:8080/",
          "height": 0
        }
      },
      "execution_count": 65,
      "outputs": [
        {
          "output_type": "stream",
          "name": "stdout",
          "text": [
            "Drive already mounted at /content/drive; to attempt to forcibly remount, call drive.mount(\"/content/drive\", force_remount=True).\n"
          ]
        }
      ]
    },
    {
      "cell_type": "markdown",
      "metadata": {
        "id": "hiKDCIvD4LMq"
      },
      "source": [
        "#### Import the data and get a high-level picture"
      ]
    },
    {
      "cell_type": "code",
      "execution_count": 66,
      "metadata": {
        "id": "riZ7riP04LMs",
        "outputId": "d8935ed1-8ca9-40f7-9557-bcaeb5df99fa",
        "colab": {
          "base_uri": "https://localhost:8080/",
          "height": 206
        }
      },
      "outputs": [
        {
          "output_type": "execute_result",
          "data": {
            "text/plain": [
              "   order_id                       name           ordered_at  price  quantity  \\\n",
              "0     10000   \"ICE CREAM\" Peanut Fudge  2018-01-01 11:30:00  $3.50         3   \n",
              "1     10000   \"ICE CREAM\" Peanut Fudge  2018-01-01 11:30:00  $3.50         1   \n",
              "2     10001         \"SORBET\" Raspberry  2018-01-01 12:14:54  $2.50         2   \n",
              "3     10001                        NaN  2018-01-01 12:14:54  $1.50         1   \n",
              "4     10001  \"CONE\" Dipped Waffle Cone  2018-01-01 12:14:54  $3.50         1   \n",
              "\n",
              "  line_total  \n",
              "0     $10.50  \n",
              "1      $3.50  \n",
              "2      $5.00  \n",
              "3      $1.50  \n",
              "4      $3.50  "
            ],
            "text/html": [
              "\n",
              "  <div id=\"df-08d0fdc6-e5c2-4b0c-b616-e0a740f23437\">\n",
              "    <div class=\"colab-df-container\">\n",
              "      <div>\n",
              "<style scoped>\n",
              "    .dataframe tbody tr th:only-of-type {\n",
              "        vertical-align: middle;\n",
              "    }\n",
              "\n",
              "    .dataframe tbody tr th {\n",
              "        vertical-align: top;\n",
              "    }\n",
              "\n",
              "    .dataframe thead th {\n",
              "        text-align: right;\n",
              "    }\n",
              "</style>\n",
              "<table border=\"1\" class=\"dataframe\">\n",
              "  <thead>\n",
              "    <tr style=\"text-align: right;\">\n",
              "      <th></th>\n",
              "      <th>order_id</th>\n",
              "      <th>name</th>\n",
              "      <th>ordered_at</th>\n",
              "      <th>price</th>\n",
              "      <th>quantity</th>\n",
              "      <th>line_total</th>\n",
              "    </tr>\n",
              "  </thead>\n",
              "  <tbody>\n",
              "    <tr>\n",
              "      <th>0</th>\n",
              "      <td>10000</td>\n",
              "      <td>\"ICE CREAM\" Peanut Fudge</td>\n",
              "      <td>2018-01-01 11:30:00</td>\n",
              "      <td>$3.50</td>\n",
              "      <td>3</td>\n",
              "      <td>$10.50</td>\n",
              "    </tr>\n",
              "    <tr>\n",
              "      <th>1</th>\n",
              "      <td>10000</td>\n",
              "      <td>\"ICE CREAM\" Peanut Fudge</td>\n",
              "      <td>2018-01-01 11:30:00</td>\n",
              "      <td>$3.50</td>\n",
              "      <td>1</td>\n",
              "      <td>$3.50</td>\n",
              "    </tr>\n",
              "    <tr>\n",
              "      <th>2</th>\n",
              "      <td>10001</td>\n",
              "      <td>\"SORBET\" Raspberry</td>\n",
              "      <td>2018-01-01 12:14:54</td>\n",
              "      <td>$2.50</td>\n",
              "      <td>2</td>\n",
              "      <td>$5.00</td>\n",
              "    </tr>\n",
              "    <tr>\n",
              "      <th>3</th>\n",
              "      <td>10001</td>\n",
              "      <td>NaN</td>\n",
              "      <td>2018-01-01 12:14:54</td>\n",
              "      <td>$1.50</td>\n",
              "      <td>1</td>\n",
              "      <td>$1.50</td>\n",
              "    </tr>\n",
              "    <tr>\n",
              "      <th>4</th>\n",
              "      <td>10001</td>\n",
              "      <td>\"CONE\" Dipped Waffle Cone</td>\n",
              "      <td>2018-01-01 12:14:54</td>\n",
              "      <td>$3.50</td>\n",
              "      <td>1</td>\n",
              "      <td>$3.50</td>\n",
              "    </tr>\n",
              "  </tbody>\n",
              "</table>\n",
              "</div>\n",
              "      <button class=\"colab-df-convert\" onclick=\"convertToInteractive('df-08d0fdc6-e5c2-4b0c-b616-e0a740f23437')\"\n",
              "              title=\"Convert this dataframe to an interactive table.\"\n",
              "              style=\"display:none;\">\n",
              "        \n",
              "  <svg xmlns=\"http://www.w3.org/2000/svg\" height=\"24px\"viewBox=\"0 0 24 24\"\n",
              "       width=\"24px\">\n",
              "    <path d=\"M0 0h24v24H0V0z\" fill=\"none\"/>\n",
              "    <path d=\"M18.56 5.44l.94 2.06.94-2.06 2.06-.94-2.06-.94-.94-2.06-.94 2.06-2.06.94zm-11 1L8.5 8.5l.94-2.06 2.06-.94-2.06-.94L8.5 2.5l-.94 2.06-2.06.94zm10 10l.94 2.06.94-2.06 2.06-.94-2.06-.94-.94-2.06-.94 2.06-2.06.94z\"/><path d=\"M17.41 7.96l-1.37-1.37c-.4-.4-.92-.59-1.43-.59-.52 0-1.04.2-1.43.59L10.3 9.45l-7.72 7.72c-.78.78-.78 2.05 0 2.83L4 21.41c.39.39.9.59 1.41.59.51 0 1.02-.2 1.41-.59l7.78-7.78 2.81-2.81c.8-.78.8-2.07 0-2.86zM5.41 20L4 18.59l7.72-7.72 1.47 1.35L5.41 20z\"/>\n",
              "  </svg>\n",
              "      </button>\n",
              "      \n",
              "  <style>\n",
              "    .colab-df-container {\n",
              "      display:flex;\n",
              "      flex-wrap:wrap;\n",
              "      gap: 12px;\n",
              "    }\n",
              "\n",
              "    .colab-df-convert {\n",
              "      background-color: #E8F0FE;\n",
              "      border: none;\n",
              "      border-radius: 50%;\n",
              "      cursor: pointer;\n",
              "      display: none;\n",
              "      fill: #1967D2;\n",
              "      height: 32px;\n",
              "      padding: 0 0 0 0;\n",
              "      width: 32px;\n",
              "    }\n",
              "\n",
              "    .colab-df-convert:hover {\n",
              "      background-color: #E2EBFA;\n",
              "      box-shadow: 0px 1px 2px rgba(60, 64, 67, 0.3), 0px 1px 3px 1px rgba(60, 64, 67, 0.15);\n",
              "      fill: #174EA6;\n",
              "    }\n",
              "\n",
              "    [theme=dark] .colab-df-convert {\n",
              "      background-color: #3B4455;\n",
              "      fill: #D2E3FC;\n",
              "    }\n",
              "\n",
              "    [theme=dark] .colab-df-convert:hover {\n",
              "      background-color: #434B5C;\n",
              "      box-shadow: 0px 1px 3px 1px rgba(0, 0, 0, 0.15);\n",
              "      filter: drop-shadow(0px 1px 2px rgba(0, 0, 0, 0.3));\n",
              "      fill: #FFFFFF;\n",
              "    }\n",
              "  </style>\n",
              "\n",
              "      <script>\n",
              "        const buttonEl =\n",
              "          document.querySelector('#df-08d0fdc6-e5c2-4b0c-b616-e0a740f23437 button.colab-df-convert');\n",
              "        buttonEl.style.display =\n",
              "          google.colab.kernel.accessAllowed ? 'block' : 'none';\n",
              "\n",
              "        async function convertToInteractive(key) {\n",
              "          const element = document.querySelector('#df-08d0fdc6-e5c2-4b0c-b616-e0a740f23437');\n",
              "          const dataTable =\n",
              "            await google.colab.kernel.invokeFunction('convertToInteractive',\n",
              "                                                     [key], {});\n",
              "          if (!dataTable) return;\n",
              "\n",
              "          const docLinkHtml = 'Like what you see? Visit the ' +\n",
              "            '<a target=\"_blank\" href=https://colab.research.google.com/notebooks/data_table.ipynb>data table notebook</a>'\n",
              "            + ' to learn more about interactive tables.';\n",
              "          element.innerHTML = '';\n",
              "          dataTable['output_type'] = 'display_data';\n",
              "          await google.colab.output.renderOutput(dataTable, element);\n",
              "          const docLink = document.createElement('div');\n",
              "          docLink.innerHTML = docLinkHtml;\n",
              "          element.appendChild(docLink);\n",
              "        }\n",
              "      </script>\n",
              "    </div>\n",
              "  </div>\n",
              "  "
            ]
          },
          "metadata": {},
          "execution_count": 66
        }
      ],
      "source": [
        "df = pd.read_csv('/content/drive/MyDrive/lab2-datamining/sales.csv')\n",
        "df.head()"
      ]
    },
    {
      "cell_type": "code",
      "execution_count": 67,
      "metadata": {
        "id": "Y5psv3ei4LMt",
        "outputId": "cfe88c05-c700-452a-eef1-6f63dd8da223",
        "colab": {
          "base_uri": "https://localhost:8080/",
          "height": 0
        }
      },
      "outputs": [
        {
          "output_type": "execute_result",
          "data": {
            "text/plain": [
              "(29922, 6)"
            ]
          },
          "metadata": {},
          "execution_count": 67
        }
      ],
      "source": [
        "df.shape"
      ]
    },
    {
      "cell_type": "code",
      "execution_count": 68,
      "metadata": {
        "id": "375GNpta4LMu",
        "outputId": "dcf0875b-6c45-4555-d5e4-d4490aa2eff2",
        "colab": {
          "base_uri": "https://localhost:8080/",
          "height": 0
        }
      },
      "outputs": [
        {
          "output_type": "execute_result",
          "data": {
            "text/plain": [
              "order_id       int64\n",
              "name          object\n",
              "ordered_at    object\n",
              "price         object\n",
              "quantity       int64\n",
              "line_total    object\n",
              "dtype: object"
            ]
          },
          "metadata": {},
          "execution_count": 68
        }
      ],
      "source": [
        "df.dtypes"
      ]
    },
    {
      "cell_type": "markdown",
      "metadata": {
        "id": "KLox1Gny4LMu"
      },
      "source": [
        "#### Question: Fix column datatypes\n",
        "\n",
        "Change ordered_at to datetime\n",
        "\n",
        "Change price and line_total to float"
      ]
    },
    {
      "cell_type": "markdown",
      "source": [
        "##### Answer: 1. Fix ordered_at to datetime\n"
      ],
      "metadata": {
        "id": "D7JzdVPZYRBX"
      }
    },
    {
      "cell_type": "code",
      "execution_count": 69,
      "metadata": {
        "id": "KT7Hsa3Y4LMu",
        "colab": {
          "base_uri": "https://localhost:8080/",
          "height": 0
        },
        "outputId": "0d898689-db2a-4847-8d83-49a89f5dc521"
      },
      "outputs": [
        {
          "output_type": "execute_result",
          "data": {
            "text/plain": [
              "order_id               int64\n",
              "name                  object\n",
              "ordered_at    datetime64[ns]\n",
              "price                 object\n",
              "quantity               int64\n",
              "line_total            object\n",
              "dtype: object"
            ]
          },
          "metadata": {},
          "execution_count": 69
        }
      ],
      "source": [
        "df['ordered_at'] = pd.to_datetime(df['ordered_at'])\n",
        "df.dtypes\n"
      ]
    },
    {
      "cell_type": "markdown",
      "source": [
        "##### Answer: 2. Fix price and line_total to float"
      ],
      "metadata": {
        "id": "9NGjoDWDYdLd"
      }
    },
    {
      "cell_type": "code",
      "execution_count": 70,
      "metadata": {
        "id": "eqSIyaBc4LMv",
        "colab": {
          "base_uri": "https://localhost:8080/",
          "height": 0
        },
        "outputId": "f85a024b-9934-4b22-f7ab-07269fea760f"
      },
      "outputs": [
        {
          "output_type": "execute_result",
          "data": {
            "text/plain": [
              "order_id               int64\n",
              "name                  object\n",
              "ordered_at    datetime64[ns]\n",
              "price                float64\n",
              "quantity               int64\n",
              "line_total           float64\n",
              "dtype: object"
            ]
          },
          "metadata": {},
          "execution_count": 70
        }
      ],
      "source": [
        "df['price'] = df['price'].map(lambda field: field.replace('$', ''))\n",
        "df['price'] = pd.to_numeric(df['price'])\n",
        "\n",
        "df['line_total'] = df['line_total'].map(lambda field: field.replace('$', ''))\n",
        "df['line_total'] = pd.to_numeric(df['line_total'])\n",
        "\n",
        "df.dtypes"
      ]
    },
    {
      "cell_type": "markdown",
      "metadata": {
        "id": "quS28WMK4LMv"
      },
      "source": [
        "#### Question: drop if duplicated or null"
      ]
    },
    {
      "cell_type": "code",
      "execution_count": 71,
      "metadata": {
        "id": "REHaoHtj4LMv",
        "outputId": "9cae1d74-a61e-4c6f-f477-2cf68e0a5bdb",
        "colab": {
          "base_uri": "https://localhost:8080/",
          "height": 0
        }
      },
      "outputs": [
        {
          "output_type": "execute_result",
          "data": {
            "text/plain": [
              "538"
            ]
          },
          "metadata": {},
          "execution_count": 71
        }
      ],
      "source": [
        "df[df.duplicated()].shape[0]"
      ]
    },
    {
      "cell_type": "markdown",
      "source": [
        "##### Answer: 1. drop duplicates"
      ],
      "metadata": {
        "id": "ZXu37rPOY5Lg"
      }
    },
    {
      "cell_type": "code",
      "execution_count": 72,
      "metadata": {
        "id": "KEwR_01A4LMw",
        "colab": {
          "base_uri": "https://localhost:8080/",
          "height": 0
        },
        "outputId": "b0ef87a1-0c96-4e0a-ab31-23b29d36fd12"
      },
      "outputs": [
        {
          "output_type": "execute_result",
          "data": {
            "text/plain": [
              "0"
            ]
          },
          "metadata": {},
          "execution_count": 72
        }
      ],
      "source": [
        "df = df.drop_duplicates()\n",
        "df[df.duplicated()].shape[0]"
      ]
    },
    {
      "cell_type": "code",
      "execution_count": 73,
      "metadata": {
        "id": "N29ZMG1v4LMx",
        "outputId": "d4a9107f-c243-42ba-914f-a0dd942bbf55",
        "colab": {
          "base_uri": "https://localhost:8080/",
          "height": 0
        }
      },
      "outputs": [
        {
          "output_type": "execute_result",
          "data": {
            "text/plain": [
              "order_id         0\n",
              "name          1481\n",
              "ordered_at       0\n",
              "price            0\n",
              "quantity         0\n",
              "line_total       0\n",
              "dtype: int64"
            ]
          },
          "metadata": {},
          "execution_count": 73
        }
      ],
      "source": [
        "df.isnull().sum()"
      ]
    },
    {
      "cell_type": "markdown",
      "source": [
        "##### Anwser: 2. drop nulls"
      ],
      "metadata": {
        "id": "bskVCz8EZEXz"
      }
    },
    {
      "cell_type": "code",
      "source": [
        "df = df.dropna()\n",
        "df.isnull().sum()"
      ],
      "metadata": {
        "colab": {
          "base_uri": "https://localhost:8080/",
          "height": 0
        },
        "id": "RAPgmtvL-oiP",
        "outputId": "5c098ad0-8ff3-40ec-f2e5-6ea9ab8192b9"
      },
      "execution_count": 74,
      "outputs": [
        {
          "output_type": "execute_result",
          "data": {
            "text/plain": [
              "order_id      0\n",
              "name          0\n",
              "ordered_at    0\n",
              "price         0\n",
              "quantity      0\n",
              "line_total    0\n",
              "dtype: int64"
            ]
          },
          "metadata": {},
          "execution_count": 74
        }
      ]
    },
    {
      "cell_type": "code",
      "execution_count": 75,
      "metadata": {
        "id": "-Ba3Tlii4LMx",
        "outputId": "93dcb401-8bc5-49bd-b7d0-5909d6ccd546",
        "colab": {
          "base_uri": "https://localhost:8080/",
          "height": 50
        }
      },
      "outputs": [
        {
          "output_type": "execute_result",
          "data": {
            "text/plain": [
              "Empty DataFrame\n",
              "Columns: [order_id, name, ordered_at, price, quantity, line_total]\n",
              "Index: []"
            ],
            "text/html": [
              "\n",
              "  <div id=\"df-befabe38-1364-4b21-9d14-46610108506d\">\n",
              "    <div class=\"colab-df-container\">\n",
              "      <div>\n",
              "<style scoped>\n",
              "    .dataframe tbody tr th:only-of-type {\n",
              "        vertical-align: middle;\n",
              "    }\n",
              "\n",
              "    .dataframe tbody tr th {\n",
              "        vertical-align: top;\n",
              "    }\n",
              "\n",
              "    .dataframe thead th {\n",
              "        text-align: right;\n",
              "    }\n",
              "</style>\n",
              "<table border=\"1\" class=\"dataframe\">\n",
              "  <thead>\n",
              "    <tr style=\"text-align: right;\">\n",
              "      <th></th>\n",
              "      <th>order_id</th>\n",
              "      <th>name</th>\n",
              "      <th>ordered_at</th>\n",
              "      <th>price</th>\n",
              "      <th>quantity</th>\n",
              "      <th>line_total</th>\n",
              "    </tr>\n",
              "  </thead>\n",
              "  <tbody>\n",
              "  </tbody>\n",
              "</table>\n",
              "</div>\n",
              "      <button class=\"colab-df-convert\" onclick=\"convertToInteractive('df-befabe38-1364-4b21-9d14-46610108506d')\"\n",
              "              title=\"Convert this dataframe to an interactive table.\"\n",
              "              style=\"display:none;\">\n",
              "        \n",
              "  <svg xmlns=\"http://www.w3.org/2000/svg\" height=\"24px\"viewBox=\"0 0 24 24\"\n",
              "       width=\"24px\">\n",
              "    <path d=\"M0 0h24v24H0V0z\" fill=\"none\"/>\n",
              "    <path d=\"M18.56 5.44l.94 2.06.94-2.06 2.06-.94-2.06-.94-.94-2.06-.94 2.06-2.06.94zm-11 1L8.5 8.5l.94-2.06 2.06-.94-2.06-.94L8.5 2.5l-.94 2.06-2.06.94zm10 10l.94 2.06.94-2.06 2.06-.94-2.06-.94-.94-2.06-.94 2.06-2.06.94z\"/><path d=\"M17.41 7.96l-1.37-1.37c-.4-.4-.92-.59-1.43-.59-.52 0-1.04.2-1.43.59L10.3 9.45l-7.72 7.72c-.78.78-.78 2.05 0 2.83L4 21.41c.39.39.9.59 1.41.59.51 0 1.02-.2 1.41-.59l7.78-7.78 2.81-2.81c.8-.78.8-2.07 0-2.86zM5.41 20L4 18.59l7.72-7.72 1.47 1.35L5.41 20z\"/>\n",
              "  </svg>\n",
              "      </button>\n",
              "      \n",
              "  <style>\n",
              "    .colab-df-container {\n",
              "      display:flex;\n",
              "      flex-wrap:wrap;\n",
              "      gap: 12px;\n",
              "    }\n",
              "\n",
              "    .colab-df-convert {\n",
              "      background-color: #E8F0FE;\n",
              "      border: none;\n",
              "      border-radius: 50%;\n",
              "      cursor: pointer;\n",
              "      display: none;\n",
              "      fill: #1967D2;\n",
              "      height: 32px;\n",
              "      padding: 0 0 0 0;\n",
              "      width: 32px;\n",
              "    }\n",
              "\n",
              "    .colab-df-convert:hover {\n",
              "      background-color: #E2EBFA;\n",
              "      box-shadow: 0px 1px 2px rgba(60, 64, 67, 0.3), 0px 1px 3px 1px rgba(60, 64, 67, 0.15);\n",
              "      fill: #174EA6;\n",
              "    }\n",
              "\n",
              "    [theme=dark] .colab-df-convert {\n",
              "      background-color: #3B4455;\n",
              "      fill: #D2E3FC;\n",
              "    }\n",
              "\n",
              "    [theme=dark] .colab-df-convert:hover {\n",
              "      background-color: #434B5C;\n",
              "      box-shadow: 0px 1px 3px 1px rgba(0, 0, 0, 0.15);\n",
              "      filter: drop-shadow(0px 1px 2px rgba(0, 0, 0, 0.3));\n",
              "      fill: #FFFFFF;\n",
              "    }\n",
              "  </style>\n",
              "\n",
              "      <script>\n",
              "        const buttonEl =\n",
              "          document.querySelector('#df-befabe38-1364-4b21-9d14-46610108506d button.colab-df-convert');\n",
              "        buttonEl.style.display =\n",
              "          google.colab.kernel.accessAllowed ? 'block' : 'none';\n",
              "\n",
              "        async function convertToInteractive(key) {\n",
              "          const element = document.querySelector('#df-befabe38-1364-4b21-9d14-46610108506d');\n",
              "          const dataTable =\n",
              "            await google.colab.kernel.invokeFunction('convertToInteractive',\n",
              "                                                     [key], {});\n",
              "          if (!dataTable) return;\n",
              "\n",
              "          const docLinkHtml = 'Like what you see? Visit the ' +\n",
              "            '<a target=\"_blank\" href=https://colab.research.google.com/notebooks/data_table.ipynb>data table notebook</a>'\n",
              "            + ' to learn more about interactive tables.';\n",
              "          element.innerHTML = '';\n",
              "          dataTable['output_type'] = 'display_data';\n",
              "          await google.colab.output.renderOutput(dataTable, element);\n",
              "          const docLink = document.createElement('div');\n",
              "          docLink.innerHTML = docLinkHtml;\n",
              "          element.appendChild(docLink);\n",
              "        }\n",
              "      </script>\n",
              "    </div>\n",
              "  </div>\n",
              "  "
            ]
          },
          "metadata": {},
          "execution_count": 75
        }
      ],
      "source": [
        "df[df['name'].isnull()].head()"
      ]
    },
    {
      "cell_type": "markdown",
      "metadata": {
        "id": "fhYggzu64LMy"
      },
      "source": [
        "#### Sanity check for value ranges and to check assumptions"
      ]
    },
    {
      "cell_type": "code",
      "execution_count": 76,
      "metadata": {
        "id": "5-HFbe8t4LMy",
        "outputId": "17ad5080-592d-41b1-c8b7-448faaefc86d",
        "colab": {
          "base_uri": "https://localhost:8080/",
          "height": 0
        }
      },
      "outputs": [
        {
          "output_type": "execute_result",
          "data": {
            "text/plain": [
              "28"
            ]
          },
          "metadata": {},
          "execution_count": 76
        }
      ],
      "source": [
        "df[(df['price'] * df['quantity']) != df['line_total']].shape[0]"
      ]
    },
    {
      "cell_type": "code",
      "execution_count": 83,
      "metadata": {
        "id": "x_CsmooZ4LMy",
        "outputId": "8b76ad3b-fb67-4c80-c338-eff48c40d28c",
        "colab": {
          "base_uri": "https://localhost:8080/",
          "height": 0
        }
      },
      "outputs": [
        {
          "output_type": "execute_result",
          "data": {
            "text/plain": [
              "279"
            ]
          },
          "metadata": {},
          "execution_count": 83
        }
      ],
      "source": [
        "df[df['line_total'] < 0].shape[0]"
      ]
    },
    {
      "cell_type": "code",
      "source": [
        "df[df['line_total'] < 0]"
      ],
      "metadata": {
        "colab": {
          "base_uri": "https://localhost:8080/",
          "height": 424
        },
        "id": "ynEGmWUVDexj",
        "outputId": "7dbe98ab-cea6-45ef-fe10-b1551ee7ac21"
      },
      "execution_count": 78,
      "outputs": [
        {
          "output_type": "execute_result",
          "data": {
            "text/plain": [
              "       order_id                       name          ordered_at  price  \\\n",
              "28        10007         \"ICE CREAM\" Matcha 2018-01-01 15:03:17   -1.5   \n",
              "51        10016         \"SORBET\" Raspberry 2018-01-01 20:53:59   -2.5   \n",
              "188       10066   \"ICE CREAM\" Vanilla Bean 2018-01-02 22:46:28   -1.5   \n",
              "267       10090      \"SORBET\" Blood Orange 2018-01-03 09:05:40   -2.5   \n",
              "524       10174      \"ICE CREAM\" Earl Gray 2018-01-04 21:10:43   -0.5   \n",
              "...         ...                        ...                 ...    ...   \n",
              "29223     19786         \"SORBET\" Raspberry 2018-07-24 10:40:16   -2.5   \n",
              "29434     19859        \"SORBET\" Watermelon 2018-07-26 00:22:52   -2.5   \n",
              "29466     19871      \"MISC\" Ice Cream Cake 2018-07-26 06:27:30   -2.0   \n",
              "29514     19886  \"ICE CREAM\" Candied Bacon 2018-07-26 14:53:55   -0.5   \n",
              "29700     19953        \"SORBET\" Watermelon 2018-07-27 22:03:01   -2.5   \n",
              "\n",
              "       quantity  line_total  \n",
              "28            2        -3.0  \n",
              "51            1        -2.5  \n",
              "188           3        -4.5  \n",
              "267           2        -5.0  \n",
              "524           2        -1.0  \n",
              "...         ...         ...  \n",
              "29223         3        -7.5  \n",
              "29434         2        -5.0  \n",
              "29466         1        -2.0  \n",
              "29514         3        -1.5  \n",
              "29700         1        -2.5  \n",
              "\n",
              "[279 rows x 6 columns]"
            ],
            "text/html": [
              "\n",
              "  <div id=\"df-3e1e30a6-8f3a-4c57-a62a-b11cd2eaf59c\">\n",
              "    <div class=\"colab-df-container\">\n",
              "      <div>\n",
              "<style scoped>\n",
              "    .dataframe tbody tr th:only-of-type {\n",
              "        vertical-align: middle;\n",
              "    }\n",
              "\n",
              "    .dataframe tbody tr th {\n",
              "        vertical-align: top;\n",
              "    }\n",
              "\n",
              "    .dataframe thead th {\n",
              "        text-align: right;\n",
              "    }\n",
              "</style>\n",
              "<table border=\"1\" class=\"dataframe\">\n",
              "  <thead>\n",
              "    <tr style=\"text-align: right;\">\n",
              "      <th></th>\n",
              "      <th>order_id</th>\n",
              "      <th>name</th>\n",
              "      <th>ordered_at</th>\n",
              "      <th>price</th>\n",
              "      <th>quantity</th>\n",
              "      <th>line_total</th>\n",
              "    </tr>\n",
              "  </thead>\n",
              "  <tbody>\n",
              "    <tr>\n",
              "      <th>28</th>\n",
              "      <td>10007</td>\n",
              "      <td>\"ICE CREAM\" Matcha</td>\n",
              "      <td>2018-01-01 15:03:17</td>\n",
              "      <td>-1.5</td>\n",
              "      <td>2</td>\n",
              "      <td>-3.0</td>\n",
              "    </tr>\n",
              "    <tr>\n",
              "      <th>51</th>\n",
              "      <td>10016</td>\n",
              "      <td>\"SORBET\" Raspberry</td>\n",
              "      <td>2018-01-01 20:53:59</td>\n",
              "      <td>-2.5</td>\n",
              "      <td>1</td>\n",
              "      <td>-2.5</td>\n",
              "    </tr>\n",
              "    <tr>\n",
              "      <th>188</th>\n",
              "      <td>10066</td>\n",
              "      <td>\"ICE CREAM\" Vanilla Bean</td>\n",
              "      <td>2018-01-02 22:46:28</td>\n",
              "      <td>-1.5</td>\n",
              "      <td>3</td>\n",
              "      <td>-4.5</td>\n",
              "    </tr>\n",
              "    <tr>\n",
              "      <th>267</th>\n",
              "      <td>10090</td>\n",
              "      <td>\"SORBET\" Blood Orange</td>\n",
              "      <td>2018-01-03 09:05:40</td>\n",
              "      <td>-2.5</td>\n",
              "      <td>2</td>\n",
              "      <td>-5.0</td>\n",
              "    </tr>\n",
              "    <tr>\n",
              "      <th>524</th>\n",
              "      <td>10174</td>\n",
              "      <td>\"ICE CREAM\" Earl Gray</td>\n",
              "      <td>2018-01-04 21:10:43</td>\n",
              "      <td>-0.5</td>\n",
              "      <td>2</td>\n",
              "      <td>-1.0</td>\n",
              "    </tr>\n",
              "    <tr>\n",
              "      <th>...</th>\n",
              "      <td>...</td>\n",
              "      <td>...</td>\n",
              "      <td>...</td>\n",
              "      <td>...</td>\n",
              "      <td>...</td>\n",
              "      <td>...</td>\n",
              "    </tr>\n",
              "    <tr>\n",
              "      <th>29223</th>\n",
              "      <td>19786</td>\n",
              "      <td>\"SORBET\" Raspberry</td>\n",
              "      <td>2018-07-24 10:40:16</td>\n",
              "      <td>-2.5</td>\n",
              "      <td>3</td>\n",
              "      <td>-7.5</td>\n",
              "    </tr>\n",
              "    <tr>\n",
              "      <th>29434</th>\n",
              "      <td>19859</td>\n",
              "      <td>\"SORBET\" Watermelon</td>\n",
              "      <td>2018-07-26 00:22:52</td>\n",
              "      <td>-2.5</td>\n",
              "      <td>2</td>\n",
              "      <td>-5.0</td>\n",
              "    </tr>\n",
              "    <tr>\n",
              "      <th>29466</th>\n",
              "      <td>19871</td>\n",
              "      <td>\"MISC\" Ice Cream Cake</td>\n",
              "      <td>2018-07-26 06:27:30</td>\n",
              "      <td>-2.0</td>\n",
              "      <td>1</td>\n",
              "      <td>-2.0</td>\n",
              "    </tr>\n",
              "    <tr>\n",
              "      <th>29514</th>\n",
              "      <td>19886</td>\n",
              "      <td>\"ICE CREAM\" Candied Bacon</td>\n",
              "      <td>2018-07-26 14:53:55</td>\n",
              "      <td>-0.5</td>\n",
              "      <td>3</td>\n",
              "      <td>-1.5</td>\n",
              "    </tr>\n",
              "    <tr>\n",
              "      <th>29700</th>\n",
              "      <td>19953</td>\n",
              "      <td>\"SORBET\" Watermelon</td>\n",
              "      <td>2018-07-27 22:03:01</td>\n",
              "      <td>-2.5</td>\n",
              "      <td>1</td>\n",
              "      <td>-2.5</td>\n",
              "    </tr>\n",
              "  </tbody>\n",
              "</table>\n",
              "<p>279 rows × 6 columns</p>\n",
              "</div>\n",
              "      <button class=\"colab-df-convert\" onclick=\"convertToInteractive('df-3e1e30a6-8f3a-4c57-a62a-b11cd2eaf59c')\"\n",
              "              title=\"Convert this dataframe to an interactive table.\"\n",
              "              style=\"display:none;\">\n",
              "        \n",
              "  <svg xmlns=\"http://www.w3.org/2000/svg\" height=\"24px\"viewBox=\"0 0 24 24\"\n",
              "       width=\"24px\">\n",
              "    <path d=\"M0 0h24v24H0V0z\" fill=\"none\"/>\n",
              "    <path d=\"M18.56 5.44l.94 2.06.94-2.06 2.06-.94-2.06-.94-.94-2.06-.94 2.06-2.06.94zm-11 1L8.5 8.5l.94-2.06 2.06-.94-2.06-.94L8.5 2.5l-.94 2.06-2.06.94zm10 10l.94 2.06.94-2.06 2.06-.94-2.06-.94-.94-2.06-.94 2.06-2.06.94z\"/><path d=\"M17.41 7.96l-1.37-1.37c-.4-.4-.92-.59-1.43-.59-.52 0-1.04.2-1.43.59L10.3 9.45l-7.72 7.72c-.78.78-.78 2.05 0 2.83L4 21.41c.39.39.9.59 1.41.59.51 0 1.02-.2 1.41-.59l7.78-7.78 2.81-2.81c.8-.78.8-2.07 0-2.86zM5.41 20L4 18.59l7.72-7.72 1.47 1.35L5.41 20z\"/>\n",
              "  </svg>\n",
              "      </button>\n",
              "      \n",
              "  <style>\n",
              "    .colab-df-container {\n",
              "      display:flex;\n",
              "      flex-wrap:wrap;\n",
              "      gap: 12px;\n",
              "    }\n",
              "\n",
              "    .colab-df-convert {\n",
              "      background-color: #E8F0FE;\n",
              "      border: none;\n",
              "      border-radius: 50%;\n",
              "      cursor: pointer;\n",
              "      display: none;\n",
              "      fill: #1967D2;\n",
              "      height: 32px;\n",
              "      padding: 0 0 0 0;\n",
              "      width: 32px;\n",
              "    }\n",
              "\n",
              "    .colab-df-convert:hover {\n",
              "      background-color: #E2EBFA;\n",
              "      box-shadow: 0px 1px 2px rgba(60, 64, 67, 0.3), 0px 1px 3px 1px rgba(60, 64, 67, 0.15);\n",
              "      fill: #174EA6;\n",
              "    }\n",
              "\n",
              "    [theme=dark] .colab-df-convert {\n",
              "      background-color: #3B4455;\n",
              "      fill: #D2E3FC;\n",
              "    }\n",
              "\n",
              "    [theme=dark] .colab-df-convert:hover {\n",
              "      background-color: #434B5C;\n",
              "      box-shadow: 0px 1px 3px 1px rgba(0, 0, 0, 0.15);\n",
              "      filter: drop-shadow(0px 1px 2px rgba(0, 0, 0, 0.3));\n",
              "      fill: #FFFFFF;\n",
              "    }\n",
              "  </style>\n",
              "\n",
              "      <script>\n",
              "        const buttonEl =\n",
              "          document.querySelector('#df-3e1e30a6-8f3a-4c57-a62a-b11cd2eaf59c button.colab-df-convert');\n",
              "        buttonEl.style.display =\n",
              "          google.colab.kernel.accessAllowed ? 'block' : 'none';\n",
              "\n",
              "        async function convertToInteractive(key) {\n",
              "          const element = document.querySelector('#df-3e1e30a6-8f3a-4c57-a62a-b11cd2eaf59c');\n",
              "          const dataTable =\n",
              "            await google.colab.kernel.invokeFunction('convertToInteractive',\n",
              "                                                     [key], {});\n",
              "          if (!dataTable) return;\n",
              "\n",
              "          const docLinkHtml = 'Like what you see? Visit the ' +\n",
              "            '<a target=\"_blank\" href=https://colab.research.google.com/notebooks/data_table.ipynb>data table notebook</a>'\n",
              "            + ' to learn more about interactive tables.';\n",
              "          element.innerHTML = '';\n",
              "          dataTable['output_type'] = 'display_data';\n",
              "          await google.colab.output.renderOutput(dataTable, element);\n",
              "          const docLink = document.createElement('div');\n",
              "          docLink.innerHTML = docLinkHtml;\n",
              "          element.appendChild(docLink);\n",
              "        }\n",
              "      </script>\n",
              "    </div>\n",
              "  </div>\n",
              "  "
            ]
          },
          "metadata": {},
          "execution_count": 78
        }
      ]
    },
    {
      "cell_type": "markdown",
      "metadata": {
        "id": "lA92FUUj4LMz"
      },
      "source": [
        "#### Question: Set line_total = price * quantity if different, Remove if line total < 0"
      ]
    },
    {
      "cell_type": "markdown",
      "source": [
        "##### Answer: set line_total = price * quantity"
      ],
      "metadata": {
        "id": "fAXOS0sLZg16"
      }
    },
    {
      "cell_type": "code",
      "execution_count": 81,
      "metadata": {
        "id": "KgtZyhoO4LMz"
      },
      "outputs": [],
      "source": [
        "def removeIncorrectRows(row: pd.Series):\n",
        "  correctTotal = row['price'] * row['quantity']\n",
        "  row['line_total'] = correctTotal\n",
        "  return row"
      ]
    },
    {
      "cell_type": "code",
      "execution_count": 82,
      "metadata": {
        "id": "VXQYdHKg4LMz",
        "colab": {
          "base_uri": "https://localhost:8080/",
          "height": 50
        },
        "outputId": "bbf40f02-9a28-4cbd-ca74-7b6482dddae3"
      },
      "outputs": [
        {
          "output_type": "execute_result",
          "data": {
            "text/plain": [
              "Empty DataFrame\n",
              "Columns: [order_id, name, ordered_at, price, quantity, line_total]\n",
              "Index: []"
            ],
            "text/html": [
              "\n",
              "  <div id=\"df-b5e57a97-4a1d-4ea8-9dd0-3bcb5faa5b01\">\n",
              "    <div class=\"colab-df-container\">\n",
              "      <div>\n",
              "<style scoped>\n",
              "    .dataframe tbody tr th:only-of-type {\n",
              "        vertical-align: middle;\n",
              "    }\n",
              "\n",
              "    .dataframe tbody tr th {\n",
              "        vertical-align: top;\n",
              "    }\n",
              "\n",
              "    .dataframe thead th {\n",
              "        text-align: right;\n",
              "    }\n",
              "</style>\n",
              "<table border=\"1\" class=\"dataframe\">\n",
              "  <thead>\n",
              "    <tr style=\"text-align: right;\">\n",
              "      <th></th>\n",
              "      <th>order_id</th>\n",
              "      <th>name</th>\n",
              "      <th>ordered_at</th>\n",
              "      <th>price</th>\n",
              "      <th>quantity</th>\n",
              "      <th>line_total</th>\n",
              "    </tr>\n",
              "  </thead>\n",
              "  <tbody>\n",
              "  </tbody>\n",
              "</table>\n",
              "</div>\n",
              "      <button class=\"colab-df-convert\" onclick=\"convertToInteractive('df-b5e57a97-4a1d-4ea8-9dd0-3bcb5faa5b01')\"\n",
              "              title=\"Convert this dataframe to an interactive table.\"\n",
              "              style=\"display:none;\">\n",
              "        \n",
              "  <svg xmlns=\"http://www.w3.org/2000/svg\" height=\"24px\"viewBox=\"0 0 24 24\"\n",
              "       width=\"24px\">\n",
              "    <path d=\"M0 0h24v24H0V0z\" fill=\"none\"/>\n",
              "    <path d=\"M18.56 5.44l.94 2.06.94-2.06 2.06-.94-2.06-.94-.94-2.06-.94 2.06-2.06.94zm-11 1L8.5 8.5l.94-2.06 2.06-.94-2.06-.94L8.5 2.5l-.94 2.06-2.06.94zm10 10l.94 2.06.94-2.06 2.06-.94-2.06-.94-.94-2.06-.94 2.06-2.06.94z\"/><path d=\"M17.41 7.96l-1.37-1.37c-.4-.4-.92-.59-1.43-.59-.52 0-1.04.2-1.43.59L10.3 9.45l-7.72 7.72c-.78.78-.78 2.05 0 2.83L4 21.41c.39.39.9.59 1.41.59.51 0 1.02-.2 1.41-.59l7.78-7.78 2.81-2.81c.8-.78.8-2.07 0-2.86zM5.41 20L4 18.59l7.72-7.72 1.47 1.35L5.41 20z\"/>\n",
              "  </svg>\n",
              "      </button>\n",
              "      \n",
              "  <style>\n",
              "    .colab-df-container {\n",
              "      display:flex;\n",
              "      flex-wrap:wrap;\n",
              "      gap: 12px;\n",
              "    }\n",
              "\n",
              "    .colab-df-convert {\n",
              "      background-color: #E8F0FE;\n",
              "      border: none;\n",
              "      border-radius: 50%;\n",
              "      cursor: pointer;\n",
              "      display: none;\n",
              "      fill: #1967D2;\n",
              "      height: 32px;\n",
              "      padding: 0 0 0 0;\n",
              "      width: 32px;\n",
              "    }\n",
              "\n",
              "    .colab-df-convert:hover {\n",
              "      background-color: #E2EBFA;\n",
              "      box-shadow: 0px 1px 2px rgba(60, 64, 67, 0.3), 0px 1px 3px 1px rgba(60, 64, 67, 0.15);\n",
              "      fill: #174EA6;\n",
              "    }\n",
              "\n",
              "    [theme=dark] .colab-df-convert {\n",
              "      background-color: #3B4455;\n",
              "      fill: #D2E3FC;\n",
              "    }\n",
              "\n",
              "    [theme=dark] .colab-df-convert:hover {\n",
              "      background-color: #434B5C;\n",
              "      box-shadow: 0px 1px 3px 1px rgba(0, 0, 0, 0.15);\n",
              "      filter: drop-shadow(0px 1px 2px rgba(0, 0, 0, 0.3));\n",
              "      fill: #FFFFFF;\n",
              "    }\n",
              "  </style>\n",
              "\n",
              "      <script>\n",
              "        const buttonEl =\n",
              "          document.querySelector('#df-b5e57a97-4a1d-4ea8-9dd0-3bcb5faa5b01 button.colab-df-convert');\n",
              "        buttonEl.style.display =\n",
              "          google.colab.kernel.accessAllowed ? 'block' : 'none';\n",
              "\n",
              "        async function convertToInteractive(key) {\n",
              "          const element = document.querySelector('#df-b5e57a97-4a1d-4ea8-9dd0-3bcb5faa5b01');\n",
              "          const dataTable =\n",
              "            await google.colab.kernel.invokeFunction('convertToInteractive',\n",
              "                                                     [key], {});\n",
              "          if (!dataTable) return;\n",
              "\n",
              "          const docLinkHtml = 'Like what you see? Visit the ' +\n",
              "            '<a target=\"_blank\" href=https://colab.research.google.com/notebooks/data_table.ipynb>data table notebook</a>'\n",
              "            + ' to learn more about interactive tables.';\n",
              "          element.innerHTML = '';\n",
              "          dataTable['output_type'] = 'display_data';\n",
              "          await google.colab.output.renderOutput(dataTable, element);\n",
              "          const docLink = document.createElement('div');\n",
              "          docLink.innerHTML = docLinkHtml;\n",
              "          element.appendChild(docLink);\n",
              "        }\n",
              "      </script>\n",
              "    </div>\n",
              "  </div>\n",
              "  "
            ]
          },
          "metadata": {},
          "execution_count": 82
        }
      ],
      "source": [
        "df = df.apply(func=removeIncorrectRows, axis = 1)\n",
        "df[(df['price'] * df['quantity']) != df['line_total']]\n"
      ]
    },
    {
      "cell_type": "markdown",
      "source": [
        "##### Anser: remove negative line total"
      ],
      "metadata": {
        "id": "JEdcig4NZstk"
      }
    },
    {
      "cell_type": "code",
      "source": [
        "df = df[df.apply(lambda row: False if row['line_total'] < 0 else True, axis=1)]\n",
        "df[df['line_total'] < 0].shape[0]"
      ],
      "metadata": {
        "colab": {
          "base_uri": "https://localhost:8080/",
          "height": 0
        },
        "id": "u-7mTCq8FIXR",
        "outputId": "2dc86fb0-4a66-413c-e805-311b3a29ccd8"
      },
      "execution_count": 85,
      "outputs": [
        {
          "output_type": "execute_result",
          "data": {
            "text/plain": [
              "0"
            ]
          },
          "metadata": {},
          "execution_count": 85
        }
      ]
    },
    {
      "cell_type": "code",
      "source": [
        "df.dtypes"
      ],
      "metadata": {
        "colab": {
          "base_uri": "https://localhost:8080/",
          "height": 0
        },
        "id": "DlHgB2GxGoHS",
        "outputId": "25094243-5561-428b-cc79-7789c2e8f75d"
      },
      "execution_count": 86,
      "outputs": [
        {
          "output_type": "execute_result",
          "data": {
            "text/plain": [
              "order_id               int64\n",
              "name                  object\n",
              "ordered_at    datetime64[ns]\n",
              "price                float64\n",
              "quantity               int64\n",
              "line_total           float64\n",
              "dtype: object"
            ]
          },
          "metadata": {},
          "execution_count": 86
        }
      ]
    },
    {
      "cell_type": "code",
      "source": [
        "df.describe()"
      ],
      "metadata": {
        "colab": {
          "base_uri": "https://localhost:8080/",
          "height": 300
        },
        "id": "zdBVFZODIkb7",
        "outputId": "683b1298-d91d-4d54-9a25-63586cfd513f"
      },
      "execution_count": 88,
      "outputs": [
        {
          "output_type": "execute_result",
          "data": {
            "text/plain": [
              "           order_id         price      quantity    line_total\n",
              "count  27624.000000  27624.000000  27624.000000  27624.000000\n",
              "mean   14993.783051      2.511711      2.000724      5.028743\n",
              "std     2888.516649      1.059244      0.819432      3.085410\n",
              "min    10000.000000      0.500000      1.000000      0.500000\n",
              "25%    12501.750000      1.500000      1.000000      2.500000\n",
              "50%    14973.000000      2.500000      2.000000      4.500000\n",
              "75%    17507.000000      3.500000      3.000000      7.500000\n",
              "max    19999.000000      4.000000      3.000000     12.000000"
            ],
            "text/html": [
              "\n",
              "  <div id=\"df-61bae878-3167-4c0f-9ed6-80b3c6b30bf6\">\n",
              "    <div class=\"colab-df-container\">\n",
              "      <div>\n",
              "<style scoped>\n",
              "    .dataframe tbody tr th:only-of-type {\n",
              "        vertical-align: middle;\n",
              "    }\n",
              "\n",
              "    .dataframe tbody tr th {\n",
              "        vertical-align: top;\n",
              "    }\n",
              "\n",
              "    .dataframe thead th {\n",
              "        text-align: right;\n",
              "    }\n",
              "</style>\n",
              "<table border=\"1\" class=\"dataframe\">\n",
              "  <thead>\n",
              "    <tr style=\"text-align: right;\">\n",
              "      <th></th>\n",
              "      <th>order_id</th>\n",
              "      <th>price</th>\n",
              "      <th>quantity</th>\n",
              "      <th>line_total</th>\n",
              "    </tr>\n",
              "  </thead>\n",
              "  <tbody>\n",
              "    <tr>\n",
              "      <th>count</th>\n",
              "      <td>27624.000000</td>\n",
              "      <td>27624.000000</td>\n",
              "      <td>27624.000000</td>\n",
              "      <td>27624.000000</td>\n",
              "    </tr>\n",
              "    <tr>\n",
              "      <th>mean</th>\n",
              "      <td>14993.783051</td>\n",
              "      <td>2.511711</td>\n",
              "      <td>2.000724</td>\n",
              "      <td>5.028743</td>\n",
              "    </tr>\n",
              "    <tr>\n",
              "      <th>std</th>\n",
              "      <td>2888.516649</td>\n",
              "      <td>1.059244</td>\n",
              "      <td>0.819432</td>\n",
              "      <td>3.085410</td>\n",
              "    </tr>\n",
              "    <tr>\n",
              "      <th>min</th>\n",
              "      <td>10000.000000</td>\n",
              "      <td>0.500000</td>\n",
              "      <td>1.000000</td>\n",
              "      <td>0.500000</td>\n",
              "    </tr>\n",
              "    <tr>\n",
              "      <th>25%</th>\n",
              "      <td>12501.750000</td>\n",
              "      <td>1.500000</td>\n",
              "      <td>1.000000</td>\n",
              "      <td>2.500000</td>\n",
              "    </tr>\n",
              "    <tr>\n",
              "      <th>50%</th>\n",
              "      <td>14973.000000</td>\n",
              "      <td>2.500000</td>\n",
              "      <td>2.000000</td>\n",
              "      <td>4.500000</td>\n",
              "    </tr>\n",
              "    <tr>\n",
              "      <th>75%</th>\n",
              "      <td>17507.000000</td>\n",
              "      <td>3.500000</td>\n",
              "      <td>3.000000</td>\n",
              "      <td>7.500000</td>\n",
              "    </tr>\n",
              "    <tr>\n",
              "      <th>max</th>\n",
              "      <td>19999.000000</td>\n",
              "      <td>4.000000</td>\n",
              "      <td>3.000000</td>\n",
              "      <td>12.000000</td>\n",
              "    </tr>\n",
              "  </tbody>\n",
              "</table>\n",
              "</div>\n",
              "      <button class=\"colab-df-convert\" onclick=\"convertToInteractive('df-61bae878-3167-4c0f-9ed6-80b3c6b30bf6')\"\n",
              "              title=\"Convert this dataframe to an interactive table.\"\n",
              "              style=\"display:none;\">\n",
              "        \n",
              "  <svg xmlns=\"http://www.w3.org/2000/svg\" height=\"24px\"viewBox=\"0 0 24 24\"\n",
              "       width=\"24px\">\n",
              "    <path d=\"M0 0h24v24H0V0z\" fill=\"none\"/>\n",
              "    <path d=\"M18.56 5.44l.94 2.06.94-2.06 2.06-.94-2.06-.94-.94-2.06-.94 2.06-2.06.94zm-11 1L8.5 8.5l.94-2.06 2.06-.94-2.06-.94L8.5 2.5l-.94 2.06-2.06.94zm10 10l.94 2.06.94-2.06 2.06-.94-2.06-.94-.94-2.06-.94 2.06-2.06.94z\"/><path d=\"M17.41 7.96l-1.37-1.37c-.4-.4-.92-.59-1.43-.59-.52 0-1.04.2-1.43.59L10.3 9.45l-7.72 7.72c-.78.78-.78 2.05 0 2.83L4 21.41c.39.39.9.59 1.41.59.51 0 1.02-.2 1.41-.59l7.78-7.78 2.81-2.81c.8-.78.8-2.07 0-2.86zM5.41 20L4 18.59l7.72-7.72 1.47 1.35L5.41 20z\"/>\n",
              "  </svg>\n",
              "      </button>\n",
              "      \n",
              "  <style>\n",
              "    .colab-df-container {\n",
              "      display:flex;\n",
              "      flex-wrap:wrap;\n",
              "      gap: 12px;\n",
              "    }\n",
              "\n",
              "    .colab-df-convert {\n",
              "      background-color: #E8F0FE;\n",
              "      border: none;\n",
              "      border-radius: 50%;\n",
              "      cursor: pointer;\n",
              "      display: none;\n",
              "      fill: #1967D2;\n",
              "      height: 32px;\n",
              "      padding: 0 0 0 0;\n",
              "      width: 32px;\n",
              "    }\n",
              "\n",
              "    .colab-df-convert:hover {\n",
              "      background-color: #E2EBFA;\n",
              "      box-shadow: 0px 1px 2px rgba(60, 64, 67, 0.3), 0px 1px 3px 1px rgba(60, 64, 67, 0.15);\n",
              "      fill: #174EA6;\n",
              "    }\n",
              "\n",
              "    [theme=dark] .colab-df-convert {\n",
              "      background-color: #3B4455;\n",
              "      fill: #D2E3FC;\n",
              "    }\n",
              "\n",
              "    [theme=dark] .colab-df-convert:hover {\n",
              "      background-color: #434B5C;\n",
              "      box-shadow: 0px 1px 3px 1px rgba(0, 0, 0, 0.15);\n",
              "      filter: drop-shadow(0px 1px 2px rgba(0, 0, 0, 0.3));\n",
              "      fill: #FFFFFF;\n",
              "    }\n",
              "  </style>\n",
              "\n",
              "      <script>\n",
              "        const buttonEl =\n",
              "          document.querySelector('#df-61bae878-3167-4c0f-9ed6-80b3c6b30bf6 button.colab-df-convert');\n",
              "        buttonEl.style.display =\n",
              "          google.colab.kernel.accessAllowed ? 'block' : 'none';\n",
              "\n",
              "        async function convertToInteractive(key) {\n",
              "          const element = document.querySelector('#df-61bae878-3167-4c0f-9ed6-80b3c6b30bf6');\n",
              "          const dataTable =\n",
              "            await google.colab.kernel.invokeFunction('convertToInteractive',\n",
              "                                                     [key], {});\n",
              "          if (!dataTable) return;\n",
              "\n",
              "          const docLinkHtml = 'Like what you see? Visit the ' +\n",
              "            '<a target=\"_blank\" href=https://colab.research.google.com/notebooks/data_table.ipynb>data table notebook</a>'\n",
              "            + ' to learn more about interactive tables.';\n",
              "          element.innerHTML = '';\n",
              "          dataTable['output_type'] = 'display_data';\n",
              "          await google.colab.output.renderOutput(dataTable, element);\n",
              "          const docLink = document.createElement('div');\n",
              "          docLink.innerHTML = docLinkHtml;\n",
              "          element.appendChild(docLink);\n",
              "        }\n",
              "      </script>\n",
              "    </div>\n",
              "  </div>\n",
              "  "
            ]
          },
          "metadata": {},
          "execution_count": 88
        }
      ]
    },
    {
      "cell_type": "markdown",
      "metadata": {
        "id": "_-MhdQlI4LMz"
      },
      "source": [
        "#### Question: Get value between \"\" in name and put it in category column"
      ]
    },
    {
      "cell_type": "markdown",
      "source": [
        "##### Answer: Create new column \"category\" from \"name\" "
      ],
      "metadata": {
        "id": "iGAoPbFdZ2SL"
      }
    },
    {
      "cell_type": "code",
      "execution_count": 93,
      "metadata": {
        "id": "JFmxVX4g4LM0",
        "colab": {
          "base_uri": "https://localhost:8080/",
          "height": 363
        },
        "outputId": "d1d1fbfe-63b2-4303-91a8-6fe8772f1a7a"
      },
      "outputs": [
        {
          "output_type": "execute_result",
          "data": {
            "text/plain": [
              "    order_id                       name          ordered_at  price  quantity  \\\n",
              "0      10000   \"ICE CREAM\" Peanut Fudge 2018-01-01 11:30:00    3.5         3   \n",
              "1      10000   \"ICE CREAM\" Peanut Fudge 2018-01-01 11:30:00    3.5         1   \n",
              "2      10001         \"SORBET\" Raspberry 2018-01-01 12:14:54    2.5         2   \n",
              "4      10001  \"CONE\" Dipped Waffle Cone 2018-01-01 12:14:54    3.5         1   \n",
              "5      10002            \"SORBET\" Lychee 2018-01-01 12:23:09    3.0         1   \n",
              "7      10002      \"ICE CREAM\" Earl Gray 2018-01-01 12:23:09    0.5         3   \n",
              "8      10003         \"ICE CREAM\" Matcha 2018-01-01 12:49:35    1.5         3   \n",
              "9      10004     \"BEVERAGE\" Iced Coffee 2018-01-01 13:22:59    2.5         2   \n",
              "10     10004        \"BEVERAGE\" Espresso 2018-01-01 13:22:59    2.5         1   \n",
              "11     10004      \"ICE CREAM\" Mint Chip 2018-01-01 13:22:59    1.5         2   \n",
              "\n",
              "    line_total   category  \n",
              "0         10.5  ICE CREAM  \n",
              "1          3.5  ICE CREAM  \n",
              "2          5.0     SORBET  \n",
              "4          3.5       CONE  \n",
              "5          3.0     SORBET  \n",
              "7          1.5  ICE CREAM  \n",
              "8          4.5  ICE CREAM  \n",
              "9          5.0   BEVERAGE  \n",
              "10         2.5   BEVERAGE  \n",
              "11         3.0  ICE CREAM  "
            ],
            "text/html": [
              "\n",
              "  <div id=\"df-e3948409-8b33-424a-8e8b-1bc92d0d2e37\">\n",
              "    <div class=\"colab-df-container\">\n",
              "      <div>\n",
              "<style scoped>\n",
              "    .dataframe tbody tr th:only-of-type {\n",
              "        vertical-align: middle;\n",
              "    }\n",
              "\n",
              "    .dataframe tbody tr th {\n",
              "        vertical-align: top;\n",
              "    }\n",
              "\n",
              "    .dataframe thead th {\n",
              "        text-align: right;\n",
              "    }\n",
              "</style>\n",
              "<table border=\"1\" class=\"dataframe\">\n",
              "  <thead>\n",
              "    <tr style=\"text-align: right;\">\n",
              "      <th></th>\n",
              "      <th>order_id</th>\n",
              "      <th>name</th>\n",
              "      <th>ordered_at</th>\n",
              "      <th>price</th>\n",
              "      <th>quantity</th>\n",
              "      <th>line_total</th>\n",
              "      <th>category</th>\n",
              "    </tr>\n",
              "  </thead>\n",
              "  <tbody>\n",
              "    <tr>\n",
              "      <th>0</th>\n",
              "      <td>10000</td>\n",
              "      <td>\"ICE CREAM\" Peanut Fudge</td>\n",
              "      <td>2018-01-01 11:30:00</td>\n",
              "      <td>3.5</td>\n",
              "      <td>3</td>\n",
              "      <td>10.5</td>\n",
              "      <td>ICE CREAM</td>\n",
              "    </tr>\n",
              "    <tr>\n",
              "      <th>1</th>\n",
              "      <td>10000</td>\n",
              "      <td>\"ICE CREAM\" Peanut Fudge</td>\n",
              "      <td>2018-01-01 11:30:00</td>\n",
              "      <td>3.5</td>\n",
              "      <td>1</td>\n",
              "      <td>3.5</td>\n",
              "      <td>ICE CREAM</td>\n",
              "    </tr>\n",
              "    <tr>\n",
              "      <th>2</th>\n",
              "      <td>10001</td>\n",
              "      <td>\"SORBET\" Raspberry</td>\n",
              "      <td>2018-01-01 12:14:54</td>\n",
              "      <td>2.5</td>\n",
              "      <td>2</td>\n",
              "      <td>5.0</td>\n",
              "      <td>SORBET</td>\n",
              "    </tr>\n",
              "    <tr>\n",
              "      <th>4</th>\n",
              "      <td>10001</td>\n",
              "      <td>\"CONE\" Dipped Waffle Cone</td>\n",
              "      <td>2018-01-01 12:14:54</td>\n",
              "      <td>3.5</td>\n",
              "      <td>1</td>\n",
              "      <td>3.5</td>\n",
              "      <td>CONE</td>\n",
              "    </tr>\n",
              "    <tr>\n",
              "      <th>5</th>\n",
              "      <td>10002</td>\n",
              "      <td>\"SORBET\" Lychee</td>\n",
              "      <td>2018-01-01 12:23:09</td>\n",
              "      <td>3.0</td>\n",
              "      <td>1</td>\n",
              "      <td>3.0</td>\n",
              "      <td>SORBET</td>\n",
              "    </tr>\n",
              "    <tr>\n",
              "      <th>7</th>\n",
              "      <td>10002</td>\n",
              "      <td>\"ICE CREAM\" Earl Gray</td>\n",
              "      <td>2018-01-01 12:23:09</td>\n",
              "      <td>0.5</td>\n",
              "      <td>3</td>\n",
              "      <td>1.5</td>\n",
              "      <td>ICE CREAM</td>\n",
              "    </tr>\n",
              "    <tr>\n",
              "      <th>8</th>\n",
              "      <td>10003</td>\n",
              "      <td>\"ICE CREAM\" Matcha</td>\n",
              "      <td>2018-01-01 12:49:35</td>\n",
              "      <td>1.5</td>\n",
              "      <td>3</td>\n",
              "      <td>4.5</td>\n",
              "      <td>ICE CREAM</td>\n",
              "    </tr>\n",
              "    <tr>\n",
              "      <th>9</th>\n",
              "      <td>10004</td>\n",
              "      <td>\"BEVERAGE\" Iced Coffee</td>\n",
              "      <td>2018-01-01 13:22:59</td>\n",
              "      <td>2.5</td>\n",
              "      <td>2</td>\n",
              "      <td>5.0</td>\n",
              "      <td>BEVERAGE</td>\n",
              "    </tr>\n",
              "    <tr>\n",
              "      <th>10</th>\n",
              "      <td>10004</td>\n",
              "      <td>\"BEVERAGE\" Espresso</td>\n",
              "      <td>2018-01-01 13:22:59</td>\n",
              "      <td>2.5</td>\n",
              "      <td>1</td>\n",
              "      <td>2.5</td>\n",
              "      <td>BEVERAGE</td>\n",
              "    </tr>\n",
              "    <tr>\n",
              "      <th>11</th>\n",
              "      <td>10004</td>\n",
              "      <td>\"ICE CREAM\" Mint Chip</td>\n",
              "      <td>2018-01-01 13:22:59</td>\n",
              "      <td>1.5</td>\n",
              "      <td>2</td>\n",
              "      <td>3.0</td>\n",
              "      <td>ICE CREAM</td>\n",
              "    </tr>\n",
              "  </tbody>\n",
              "</table>\n",
              "</div>\n",
              "      <button class=\"colab-df-convert\" onclick=\"convertToInteractive('df-e3948409-8b33-424a-8e8b-1bc92d0d2e37')\"\n",
              "              title=\"Convert this dataframe to an interactive table.\"\n",
              "              style=\"display:none;\">\n",
              "        \n",
              "  <svg xmlns=\"http://www.w3.org/2000/svg\" height=\"24px\"viewBox=\"0 0 24 24\"\n",
              "       width=\"24px\">\n",
              "    <path d=\"M0 0h24v24H0V0z\" fill=\"none\"/>\n",
              "    <path d=\"M18.56 5.44l.94 2.06.94-2.06 2.06-.94-2.06-.94-.94-2.06-.94 2.06-2.06.94zm-11 1L8.5 8.5l.94-2.06 2.06-.94-2.06-.94L8.5 2.5l-.94 2.06-2.06.94zm10 10l.94 2.06.94-2.06 2.06-.94-2.06-.94-.94-2.06-.94 2.06-2.06.94z\"/><path d=\"M17.41 7.96l-1.37-1.37c-.4-.4-.92-.59-1.43-.59-.52 0-1.04.2-1.43.59L10.3 9.45l-7.72 7.72c-.78.78-.78 2.05 0 2.83L4 21.41c.39.39.9.59 1.41.59.51 0 1.02-.2 1.41-.59l7.78-7.78 2.81-2.81c.8-.78.8-2.07 0-2.86zM5.41 20L4 18.59l7.72-7.72 1.47 1.35L5.41 20z\"/>\n",
              "  </svg>\n",
              "      </button>\n",
              "      \n",
              "  <style>\n",
              "    .colab-df-container {\n",
              "      display:flex;\n",
              "      flex-wrap:wrap;\n",
              "      gap: 12px;\n",
              "    }\n",
              "\n",
              "    .colab-df-convert {\n",
              "      background-color: #E8F0FE;\n",
              "      border: none;\n",
              "      border-radius: 50%;\n",
              "      cursor: pointer;\n",
              "      display: none;\n",
              "      fill: #1967D2;\n",
              "      height: 32px;\n",
              "      padding: 0 0 0 0;\n",
              "      width: 32px;\n",
              "    }\n",
              "\n",
              "    .colab-df-convert:hover {\n",
              "      background-color: #E2EBFA;\n",
              "      box-shadow: 0px 1px 2px rgba(60, 64, 67, 0.3), 0px 1px 3px 1px rgba(60, 64, 67, 0.15);\n",
              "      fill: #174EA6;\n",
              "    }\n",
              "\n",
              "    [theme=dark] .colab-df-convert {\n",
              "      background-color: #3B4455;\n",
              "      fill: #D2E3FC;\n",
              "    }\n",
              "\n",
              "    [theme=dark] .colab-df-convert:hover {\n",
              "      background-color: #434B5C;\n",
              "      box-shadow: 0px 1px 3px 1px rgba(0, 0, 0, 0.15);\n",
              "      filter: drop-shadow(0px 1px 2px rgba(0, 0, 0, 0.3));\n",
              "      fill: #FFFFFF;\n",
              "    }\n",
              "  </style>\n",
              "\n",
              "      <script>\n",
              "        const buttonEl =\n",
              "          document.querySelector('#df-e3948409-8b33-424a-8e8b-1bc92d0d2e37 button.colab-df-convert');\n",
              "        buttonEl.style.display =\n",
              "          google.colab.kernel.accessAllowed ? 'block' : 'none';\n",
              "\n",
              "        async function convertToInteractive(key) {\n",
              "          const element = document.querySelector('#df-e3948409-8b33-424a-8e8b-1bc92d0d2e37');\n",
              "          const dataTable =\n",
              "            await google.colab.kernel.invokeFunction('convertToInteractive',\n",
              "                                                     [key], {});\n",
              "          if (!dataTable) return;\n",
              "\n",
              "          const docLinkHtml = 'Like what you see? Visit the ' +\n",
              "            '<a target=\"_blank\" href=https://colab.research.google.com/notebooks/data_table.ipynb>data table notebook</a>'\n",
              "            + ' to learn more about interactive tables.';\n",
              "          element.innerHTML = '';\n",
              "          dataTable['output_type'] = 'display_data';\n",
              "          await google.colab.output.renderOutput(dataTable, element);\n",
              "          const docLink = document.createElement('div');\n",
              "          docLink.innerHTML = docLinkHtml;\n",
              "          element.appendChild(docLink);\n",
              "        }\n",
              "      </script>\n",
              "    </div>\n",
              "  </div>\n",
              "  "
            ]
          },
          "metadata": {},
          "execution_count": 93
        }
      ],
      "source": [
        "\n",
        "def generateCategory(row: pd.Series):\n",
        "  row['category'] = re.split(\"\\\"\", row['name'])[1]\n",
        "  return row\n",
        "df = df.apply(generateCategory, axis = 1)\n",
        "df.head(10)"
      ]
    },
    {
      "cell_type": "code",
      "source": [
        "def dropCategoryInName(row: pd.Series):\n",
        "  row['name'] = re.split(\"\\\"\", row['name'])[2]\n",
        "  return row \n",
        "df = df.apply(dropCategoryInName, axis = 1)\n",
        "df.head(10)"
      ],
      "metadata": {
        "colab": {
          "base_uri": "https://localhost:8080/",
          "height": 363
        },
        "id": "9Q2Aa3-4VpOh",
        "outputId": "29027f10-d26f-4f73-b60a-115e1441bc18"
      },
      "execution_count": 94,
      "outputs": [
        {
          "output_type": "execute_result",
          "data": {
            "text/plain": [
              "    order_id                 name          ordered_at  price  quantity  \\\n",
              "0      10000         Peanut Fudge 2018-01-01 11:30:00    3.5         3   \n",
              "1      10000         Peanut Fudge 2018-01-01 11:30:00    3.5         1   \n",
              "2      10001            Raspberry 2018-01-01 12:14:54    2.5         2   \n",
              "4      10001   Dipped Waffle Cone 2018-01-01 12:14:54    3.5         1   \n",
              "5      10002               Lychee 2018-01-01 12:23:09    3.0         1   \n",
              "7      10002            Earl Gray 2018-01-01 12:23:09    0.5         3   \n",
              "8      10003               Matcha 2018-01-01 12:49:35    1.5         3   \n",
              "9      10004          Iced Coffee 2018-01-01 13:22:59    2.5         2   \n",
              "10     10004             Espresso 2018-01-01 13:22:59    2.5         1   \n",
              "11     10004            Mint Chip 2018-01-01 13:22:59    1.5         2   \n",
              "\n",
              "    line_total   category  \n",
              "0         10.5  ICE CREAM  \n",
              "1          3.5  ICE CREAM  \n",
              "2          5.0     SORBET  \n",
              "4          3.5       CONE  \n",
              "5          3.0     SORBET  \n",
              "7          1.5  ICE CREAM  \n",
              "8          4.5  ICE CREAM  \n",
              "9          5.0   BEVERAGE  \n",
              "10         2.5   BEVERAGE  \n",
              "11         3.0  ICE CREAM  "
            ],
            "text/html": [
              "\n",
              "  <div id=\"df-29b0c636-8179-403b-8d93-11d9598bd1ed\">\n",
              "    <div class=\"colab-df-container\">\n",
              "      <div>\n",
              "<style scoped>\n",
              "    .dataframe tbody tr th:only-of-type {\n",
              "        vertical-align: middle;\n",
              "    }\n",
              "\n",
              "    .dataframe tbody tr th {\n",
              "        vertical-align: top;\n",
              "    }\n",
              "\n",
              "    .dataframe thead th {\n",
              "        text-align: right;\n",
              "    }\n",
              "</style>\n",
              "<table border=\"1\" class=\"dataframe\">\n",
              "  <thead>\n",
              "    <tr style=\"text-align: right;\">\n",
              "      <th></th>\n",
              "      <th>order_id</th>\n",
              "      <th>name</th>\n",
              "      <th>ordered_at</th>\n",
              "      <th>price</th>\n",
              "      <th>quantity</th>\n",
              "      <th>line_total</th>\n",
              "      <th>category</th>\n",
              "    </tr>\n",
              "  </thead>\n",
              "  <tbody>\n",
              "    <tr>\n",
              "      <th>0</th>\n",
              "      <td>10000</td>\n",
              "      <td>Peanut Fudge</td>\n",
              "      <td>2018-01-01 11:30:00</td>\n",
              "      <td>3.5</td>\n",
              "      <td>3</td>\n",
              "      <td>10.5</td>\n",
              "      <td>ICE CREAM</td>\n",
              "    </tr>\n",
              "    <tr>\n",
              "      <th>1</th>\n",
              "      <td>10000</td>\n",
              "      <td>Peanut Fudge</td>\n",
              "      <td>2018-01-01 11:30:00</td>\n",
              "      <td>3.5</td>\n",
              "      <td>1</td>\n",
              "      <td>3.5</td>\n",
              "      <td>ICE CREAM</td>\n",
              "    </tr>\n",
              "    <tr>\n",
              "      <th>2</th>\n",
              "      <td>10001</td>\n",
              "      <td>Raspberry</td>\n",
              "      <td>2018-01-01 12:14:54</td>\n",
              "      <td>2.5</td>\n",
              "      <td>2</td>\n",
              "      <td>5.0</td>\n",
              "      <td>SORBET</td>\n",
              "    </tr>\n",
              "    <tr>\n",
              "      <th>4</th>\n",
              "      <td>10001</td>\n",
              "      <td>Dipped Waffle Cone</td>\n",
              "      <td>2018-01-01 12:14:54</td>\n",
              "      <td>3.5</td>\n",
              "      <td>1</td>\n",
              "      <td>3.5</td>\n",
              "      <td>CONE</td>\n",
              "    </tr>\n",
              "    <tr>\n",
              "      <th>5</th>\n",
              "      <td>10002</td>\n",
              "      <td>Lychee</td>\n",
              "      <td>2018-01-01 12:23:09</td>\n",
              "      <td>3.0</td>\n",
              "      <td>1</td>\n",
              "      <td>3.0</td>\n",
              "      <td>SORBET</td>\n",
              "    </tr>\n",
              "    <tr>\n",
              "      <th>7</th>\n",
              "      <td>10002</td>\n",
              "      <td>Earl Gray</td>\n",
              "      <td>2018-01-01 12:23:09</td>\n",
              "      <td>0.5</td>\n",
              "      <td>3</td>\n",
              "      <td>1.5</td>\n",
              "      <td>ICE CREAM</td>\n",
              "    </tr>\n",
              "    <tr>\n",
              "      <th>8</th>\n",
              "      <td>10003</td>\n",
              "      <td>Matcha</td>\n",
              "      <td>2018-01-01 12:49:35</td>\n",
              "      <td>1.5</td>\n",
              "      <td>3</td>\n",
              "      <td>4.5</td>\n",
              "      <td>ICE CREAM</td>\n",
              "    </tr>\n",
              "    <tr>\n",
              "      <th>9</th>\n",
              "      <td>10004</td>\n",
              "      <td>Iced Coffee</td>\n",
              "      <td>2018-01-01 13:22:59</td>\n",
              "      <td>2.5</td>\n",
              "      <td>2</td>\n",
              "      <td>5.0</td>\n",
              "      <td>BEVERAGE</td>\n",
              "    </tr>\n",
              "    <tr>\n",
              "      <th>10</th>\n",
              "      <td>10004</td>\n",
              "      <td>Espresso</td>\n",
              "      <td>2018-01-01 13:22:59</td>\n",
              "      <td>2.5</td>\n",
              "      <td>1</td>\n",
              "      <td>2.5</td>\n",
              "      <td>BEVERAGE</td>\n",
              "    </tr>\n",
              "    <tr>\n",
              "      <th>11</th>\n",
              "      <td>10004</td>\n",
              "      <td>Mint Chip</td>\n",
              "      <td>2018-01-01 13:22:59</td>\n",
              "      <td>1.5</td>\n",
              "      <td>2</td>\n",
              "      <td>3.0</td>\n",
              "      <td>ICE CREAM</td>\n",
              "    </tr>\n",
              "  </tbody>\n",
              "</table>\n",
              "</div>\n",
              "      <button class=\"colab-df-convert\" onclick=\"convertToInteractive('df-29b0c636-8179-403b-8d93-11d9598bd1ed')\"\n",
              "              title=\"Convert this dataframe to an interactive table.\"\n",
              "              style=\"display:none;\">\n",
              "        \n",
              "  <svg xmlns=\"http://www.w3.org/2000/svg\" height=\"24px\"viewBox=\"0 0 24 24\"\n",
              "       width=\"24px\">\n",
              "    <path d=\"M0 0h24v24H0V0z\" fill=\"none\"/>\n",
              "    <path d=\"M18.56 5.44l.94 2.06.94-2.06 2.06-.94-2.06-.94-.94-2.06-.94 2.06-2.06.94zm-11 1L8.5 8.5l.94-2.06 2.06-.94-2.06-.94L8.5 2.5l-.94 2.06-2.06.94zm10 10l.94 2.06.94-2.06 2.06-.94-2.06-.94-.94-2.06-.94 2.06-2.06.94z\"/><path d=\"M17.41 7.96l-1.37-1.37c-.4-.4-.92-.59-1.43-.59-.52 0-1.04.2-1.43.59L10.3 9.45l-7.72 7.72c-.78.78-.78 2.05 0 2.83L4 21.41c.39.39.9.59 1.41.59.51 0 1.02-.2 1.41-.59l7.78-7.78 2.81-2.81c.8-.78.8-2.07 0-2.86zM5.41 20L4 18.59l7.72-7.72 1.47 1.35L5.41 20z\"/>\n",
              "  </svg>\n",
              "      </button>\n",
              "      \n",
              "  <style>\n",
              "    .colab-df-container {\n",
              "      display:flex;\n",
              "      flex-wrap:wrap;\n",
              "      gap: 12px;\n",
              "    }\n",
              "\n",
              "    .colab-df-convert {\n",
              "      background-color: #E8F0FE;\n",
              "      border: none;\n",
              "      border-radius: 50%;\n",
              "      cursor: pointer;\n",
              "      display: none;\n",
              "      fill: #1967D2;\n",
              "      height: 32px;\n",
              "      padding: 0 0 0 0;\n",
              "      width: 32px;\n",
              "    }\n",
              "\n",
              "    .colab-df-convert:hover {\n",
              "      background-color: #E2EBFA;\n",
              "      box-shadow: 0px 1px 2px rgba(60, 64, 67, 0.3), 0px 1px 3px 1px rgba(60, 64, 67, 0.15);\n",
              "      fill: #174EA6;\n",
              "    }\n",
              "\n",
              "    [theme=dark] .colab-df-convert {\n",
              "      background-color: #3B4455;\n",
              "      fill: #D2E3FC;\n",
              "    }\n",
              "\n",
              "    [theme=dark] .colab-df-convert:hover {\n",
              "      background-color: #434B5C;\n",
              "      box-shadow: 0px 1px 3px 1px rgba(0, 0, 0, 0.15);\n",
              "      filter: drop-shadow(0px 1px 2px rgba(0, 0, 0, 0.3));\n",
              "      fill: #FFFFFF;\n",
              "    }\n",
              "  </style>\n",
              "\n",
              "      <script>\n",
              "        const buttonEl =\n",
              "          document.querySelector('#df-29b0c636-8179-403b-8d93-11d9598bd1ed button.colab-df-convert');\n",
              "        buttonEl.style.display =\n",
              "          google.colab.kernel.accessAllowed ? 'block' : 'none';\n",
              "\n",
              "        async function convertToInteractive(key) {\n",
              "          const element = document.querySelector('#df-29b0c636-8179-403b-8d93-11d9598bd1ed');\n",
              "          const dataTable =\n",
              "            await google.colab.kernel.invokeFunction('convertToInteractive',\n",
              "                                                     [key], {});\n",
              "          if (!dataTable) return;\n",
              "\n",
              "          const docLinkHtml = 'Like what you see? Visit the ' +\n",
              "            '<a target=\"_blank\" href=https://colab.research.google.com/notebooks/data_table.ipynb>data table notebook</a>'\n",
              "            + ' to learn more about interactive tables.';\n",
              "          element.innerHTML = '';\n",
              "          dataTable['output_type'] = 'display_data';\n",
              "          await google.colab.output.renderOutput(dataTable, element);\n",
              "          const docLink = document.createElement('div');\n",
              "          docLink.innerHTML = docLinkHtml;\n",
              "          element.appendChild(docLink);\n",
              "        }\n",
              "      </script>\n",
              "    </div>\n",
              "  </div>\n",
              "  "
            ]
          },
          "metadata": {},
          "execution_count": 94
        }
      ]
    },
    {
      "cell_type": "code",
      "execution_count": null,
      "metadata": {
        "id": "cfT1182P4LM0",
        "outputId": "1ca5d1de-8b64-4c89-c428-c6ca81cf2396"
      },
      "outputs": [
        {
          "data": {
            "text/html": [
              "<div>\n",
              "<style scoped>\n",
              "    .dataframe tbody tr th:only-of-type {\n",
              "        vertical-align: middle;\n",
              "    }\n",
              "\n",
              "    .dataframe tbody tr th {\n",
              "        vertical-align: top;\n",
              "    }\n",
              "\n",
              "    .dataframe thead th {\n",
              "        text-align: right;\n",
              "    }\n",
              "</style>\n",
              "<table border=\"1\" class=\"dataframe\">\n",
              "  <thead>\n",
              "    <tr style=\"text-align: right;\">\n",
              "      <th></th>\n",
              "      <th>order_id</th>\n",
              "      <th>name</th>\n",
              "      <th>ordered_at</th>\n",
              "      <th>price</th>\n",
              "      <th>quantity</th>\n",
              "      <th>line_total</th>\n",
              "      <th>category</th>\n",
              "    </tr>\n",
              "  </thead>\n",
              "  <tbody>\n",
              "    <tr>\n",
              "      <th>0</th>\n",
              "      <td>10000</td>\n",
              "      <td>Peanut Fudge</td>\n",
              "      <td>2018-01-01 11:30:00</td>\n",
              "      <td>3.5</td>\n",
              "      <td>3</td>\n",
              "      <td>10.5</td>\n",
              "      <td>ICE CREAM</td>\n",
              "    </tr>\n",
              "    <tr>\n",
              "      <th>1</th>\n",
              "      <td>10000</td>\n",
              "      <td>Peanut Fudge</td>\n",
              "      <td>2018-01-01 11:30:00</td>\n",
              "      <td>3.5</td>\n",
              "      <td>1</td>\n",
              "      <td>3.5</td>\n",
              "      <td>ICE CREAM</td>\n",
              "    </tr>\n",
              "    <tr>\n",
              "      <th>2</th>\n",
              "      <td>10001</td>\n",
              "      <td>Raspberry</td>\n",
              "      <td>2018-01-01 12:14:54</td>\n",
              "      <td>2.5</td>\n",
              "      <td>2</td>\n",
              "      <td>5.0</td>\n",
              "      <td>SORBET</td>\n",
              "    </tr>\n",
              "    <tr>\n",
              "      <th>4</th>\n",
              "      <td>10001</td>\n",
              "      <td>Dipped Waffle Cone</td>\n",
              "      <td>2018-01-01 12:14:54</td>\n",
              "      <td>3.5</td>\n",
              "      <td>1</td>\n",
              "      <td>3.5</td>\n",
              "      <td>CONE</td>\n",
              "    </tr>\n",
              "    <tr>\n",
              "      <th>5</th>\n",
              "      <td>10002</td>\n",
              "      <td>Lychee</td>\n",
              "      <td>2018-01-01 12:23:09</td>\n",
              "      <td>3.0</td>\n",
              "      <td>1</td>\n",
              "      <td>3.0</td>\n",
              "      <td>SORBET</td>\n",
              "    </tr>\n",
              "  </tbody>\n",
              "</table>\n",
              "</div>"
            ],
            "text/plain": [
              "   order_id                name          ordered_at  price  quantity  \\\n",
              "0     10000        Peanut Fudge 2018-01-01 11:30:00    3.5         3   \n",
              "1     10000        Peanut Fudge 2018-01-01 11:30:00    3.5         1   \n",
              "2     10001           Raspberry 2018-01-01 12:14:54    2.5         2   \n",
              "4     10001  Dipped Waffle Cone 2018-01-01 12:14:54    3.5         1   \n",
              "5     10002              Lychee 2018-01-01 12:23:09    3.0         1   \n",
              "\n",
              "   line_total   category  \n",
              "0        10.5  ICE CREAM  \n",
              "1         3.5  ICE CREAM  \n",
              "2         5.0     SORBET  \n",
              "4         3.5       CONE  \n",
              "5         3.0     SORBET  "
            ]
          },
          "execution_count": 19,
          "metadata": {},
          "output_type": "execute_result"
        }
      ],
      "source": [
        "df.head()"
      ]
    },
    {
      "cell_type": "code",
      "source": [
        "df.dtypes"
      ],
      "metadata": {
        "colab": {
          "base_uri": "https://localhost:8080/"
        },
        "id": "GzpYtEfsinZl",
        "outputId": "a71e166a-f293-463b-f3c7-0eaf8e5c8f61"
      },
      "execution_count": 96,
      "outputs": [
        {
          "output_type": "execute_result",
          "data": {
            "text/plain": [
              "order_id               int64\n",
              "name                  object\n",
              "ordered_at    datetime64[ns]\n",
              "price                float64\n",
              "quantity               int64\n",
              "line_total           float64\n",
              "category              object\n",
              "dtype: object"
            ]
          },
          "metadata": {},
          "execution_count": 96
        }
      ]
    },
    {
      "cell_type": "markdown",
      "metadata": {
        "id": "xETahqiX4LM0"
      },
      "source": [
        "#### Analysis, finally!"
      ]
    },
    {
      "cell_type": "code",
      "execution_count": null,
      "metadata": {
        "id": "0xADaIlx4LM0",
        "outputId": "ec8182e7-079a-45e7-c599-8dc89227bec3"
      },
      "outputs": [
        {
          "data": {
            "image/png": "[encoded data removed]",
            "text/plain": [
              "<Figure size 720x432 with 1 Axes>"
            ]
          },
          "metadata": {
            "needs_background": "light"
          },
          "output_type": "display_data"
        }
      ],
      "source": [
        "f, ax = plt.subplots(figsize=(10, 6))\n",
        "df.groupby('name')['line_total'].sum().sort_values(ascending=False).head(10).plot(kind='bar')\n",
        "f.autofmt_xdate()\n",
        "plt.show()"
      ]
    },
    {
      "cell_type": "code",
      "source": [
        "f, ax = plt.subplots(figsize=(10, 6))\n",
        "df.groupby('name')['line_total'].sum().sort_values(ascending=False).head(10).plot(kind='bar')\n",
        "f.autofmt_xdate()\n",
        "plt.show()"
      ],
      "metadata": {
        "colab": {
          "base_uri": "https://localhost:8080/",
          "height": 560
        },
        "id": "ZcMvU7mWWGWD",
        "outputId": "9a533d94-3991-4ef7-cd1b-d0d6aadc57cf"
      },
      "execution_count": 95,
      "outputs": [
        {
          "output_type": "display_data",
          "data": {
            "text/plain": [
              "<Figure size 1000x600 with 1 Axes>"
            ],
            "image/png": "[encoded data removed]"
          },
          "metadata": {}
        }
      ]
    }
  ],
  "metadata": {
    "kernelspec": {
      "display_name": "Python 3",
      "language": "python",
      "name": "python3"
    },
    "language_info": {
      "codemirror_mode": {
        "name": "ipython",
        "version": 3
      },
      "file_extension": ".py",
      "mimetype": "text/x-python",
      "name": "python",
      "nbconvert_exporter": "python",
      "pygments_lexer": "ipython3",
      "version": "3.6.7"
    },
    "colab": {
      "provenance": [],
      "toc_visible": true
    }
  },
  "nbformat": 4,
  "nbformat_minor": 0
}