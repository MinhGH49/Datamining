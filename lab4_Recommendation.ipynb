{
  "cells": [
    {
      "cell_type": "markdown",
      "metadata": {
        "id": "PERcxrDPCXmY"
      },
      "source": [
        "## 1. Basics of Recommendation Algorithm"
      ]
    },
    {
      "cell_type": "code",
      "execution_count": null,
      "metadata": {
        "id": "YYxnB5fgCXmb"
      },
      "outputs": [],
      "source": [
        "from scipy.spatial.distance import cosine\n",
        "import sklearn.metrics as metrics\n",
        "from sklearn.neighbors import NearestNeighbors\n",
        "from scipy.spatial.distance import correlation, cosine\n",
        "import ipywidgets as widgets\n",
        "from IPython.display import display, clear_output\n",
        "from sklearn.metrics import pairwise_distances\n",
        "from sklearn.metrics import mean_squared_error"
      ]
    },
    {
      "cell_type": "code",
      "execution_count": null,
      "metadata": {
        "id": "w1WDpnyMCXmc",
        "outputId": "aeb7607d-1184-4564-d7e1-4b1eb7934b1a",
        "colab": {
          "base_uri": "https://localhost:8080/",
          "height": 175
        }
      },
      "outputs": [
        {
          "output_type": "execute_result",
          "data": {
            "text/plain": [
              "     0    1    2    3\n",
              "0  4.0  3.0  2.0  3.0\n",
              "1  1.0  2.0  3.0  1.0\n",
              "2  NaN  2.0  1.0  NaN\n",
              "3  4.0  3.0  NaN  NaN"
            ],
            "text/html": [
              "\n",
              "  <div id=\"df-972eb6b5-0f70-4170-90b0-ad405e9d7cb5\">\n",
              "    <div class=\"colab-df-container\">\n",
              "      <div>\n",
              "<style scoped>\n",
              "    .dataframe tbody tr th:only-of-type {\n",
              "        vertical-align: middle;\n",
              "    }\n",
              "\n",
              "    .dataframe tbody tr th {\n",
              "        vertical-align: top;\n",
              "    }\n",
              "\n",
              "    .dataframe thead th {\n",
              "        text-align: right;\n",
              "    }\n",
              "</style>\n",
              "<table border=\"1\" class=\"dataframe\">\n",
              "  <thead>\n",
              "    <tr style=\"text-align: right;\">\n",
              "      <th></th>\n",
              "      <th>0</th>\n",
              "      <th>1</th>\n",
              "      <th>2</th>\n",
              "      <th>3</th>\n",
              "    </tr>\n",
              "  </thead>\n",
              "  <tbody>\n",
              "    <tr>\n",
              "      <th>0</th>\n",
              "      <td>4.0</td>\n",
              "      <td>3.0</td>\n",
              "      <td>2.0</td>\n",
              "      <td>3.0</td>\n",
              "    </tr>\n",
              "    <tr>\n",
              "      <th>1</th>\n",
              "      <td>1.0</td>\n",
              "      <td>2.0</td>\n",
              "      <td>3.0</td>\n",
              "      <td>1.0</td>\n",
              "    </tr>\n",
              "    <tr>\n",
              "      <th>2</th>\n",
              "      <td>NaN</td>\n",
              "      <td>2.0</td>\n",
              "      <td>1.0</td>\n",
              "      <td>NaN</td>\n",
              "    </tr>\n",
              "    <tr>\n",
              "      <th>3</th>\n",
              "      <td>4.0</td>\n",
              "      <td>3.0</td>\n",
              "      <td>NaN</td>\n",
              "      <td>NaN</td>\n",
              "    </tr>\n",
              "  </tbody>\n",
              "</table>\n",
              "</div>\n",
              "      <button class=\"colab-df-convert\" onclick=\"convertToInteractive('df-972eb6b5-0f70-4170-90b0-ad405e9d7cb5')\"\n",
              "              title=\"Convert this dataframe to an interactive table.\"\n",
              "              style=\"display:none;\">\n",
              "        \n",
              "  <svg xmlns=\"http://www.w3.org/2000/svg\" height=\"24px\"viewBox=\"0 0 24 24\"\n",
              "       width=\"24px\">\n",
              "    <path d=\"M0 0h24v24H0V0z\" fill=\"none\"/>\n",
              "    <path d=\"M18.56 5.44l.94 2.06.94-2.06 2.06-.94-2.06-.94-.94-2.06-.94 2.06-2.06.94zm-11 1L8.5 8.5l.94-2.06 2.06-.94-2.06-.94L8.5 2.5l-.94 2.06-2.06.94zm10 10l.94 2.06.94-2.06 2.06-.94-2.06-.94-.94-2.06-.94 2.06-2.06.94z\"/><path d=\"M17.41 7.96l-1.37-1.37c-.4-.4-.92-.59-1.43-.59-.52 0-1.04.2-1.43.59L10.3 9.45l-7.72 7.72c-.78.78-.78 2.05 0 2.83L4 21.41c.39.39.9.59 1.41.59.51 0 1.02-.2 1.41-.59l7.78-7.78 2.81-2.81c.8-.78.8-2.07 0-2.86zM5.41 20L4 18.59l7.72-7.72 1.47 1.35L5.41 20z\"/>\n",
              "  </svg>\n",
              "      </button>\n",
              "      \n",
              "  <style>\n",
              "    .colab-df-container {\n",
              "      display:flex;\n",
              "      flex-wrap:wrap;\n",
              "      gap: 12px;\n",
              "    }\n",
              "\n",
              "    .colab-df-convert {\n",
              "      background-color: #E8F0FE;\n",
              "      border: none;\n",
              "      border-radius: 50%;\n",
              "      cursor: pointer;\n",
              "      display: none;\n",
              "      fill: #1967D2;\n",
              "      height: 32px;\n",
              "      padding: 0 0 0 0;\n",
              "      width: 32px;\n",
              "    }\n",
              "\n",
              "    .colab-df-convert:hover {\n",
              "      background-color: #E2EBFA;\n",
              "      box-shadow: 0px 1px 2px rgba(60, 64, 67, 0.3), 0px 1px 3px 1px rgba(60, 64, 67, 0.15);\n",
              "      fill: #174EA6;\n",
              "    }\n",
              "\n",
              "    [theme=dark] .colab-df-convert {\n",
              "      background-color: #3B4455;\n",
              "      fill: #D2E3FC;\n",
              "    }\n",
              "\n",
              "    [theme=dark] .colab-df-convert:hover {\n",
              "      background-color: #434B5C;\n",
              "      box-shadow: 0px 1px 3px 1px rgba(0, 0, 0, 0.15);\n",
              "      filter: drop-shadow(0px 1px 2px rgba(0, 0, 0, 0.3));\n",
              "      fill: #FFFFFF;\n",
              "    }\n",
              "  </style>\n",
              "\n",
              "      <script>\n",
              "        const buttonEl =\n",
              "          document.querySelector('#df-972eb6b5-0f70-4170-90b0-ad405e9d7cb5 button.colab-df-convert');\n",
              "        buttonEl.style.display =\n",
              "          google.colab.kernel.accessAllowed ? 'block' : 'none';\n",
              "\n",
              "        async function convertToInteractive(key) {\n",
              "          const element = document.querySelector('#df-972eb6b5-0f70-4170-90b0-ad405e9d7cb5');\n",
              "          const dataTable =\n",
              "            await google.colab.kernel.invokeFunction('convertToInteractive',\n",
              "                                                     [key], {});\n",
              "          if (!dataTable) return;\n",
              "\n",
              "          const docLinkHtml = 'Like what you see? Visit the ' +\n",
              "            '<a target=\"_blank\" href=https://colab.research.google.com/notebooks/data_table.ipynb>data table notebook</a>'\n",
              "            + ' to learn more about interactive tables.';\n",
              "          element.innerHTML = '';\n",
              "          dataTable['output_type'] = 'display_data';\n",
              "          await google.colab.output.renderOutput(dataTable, element);\n",
              "          const docLink = document.createElement('div');\n",
              "          docLink.innerHTML = docLinkHtml;\n",
              "          element.appendChild(docLink);\n",
              "        }\n",
              "      </script>\n",
              "    </div>\n",
              "  </div>\n",
              "  "
            ]
          },
          "metadata": {},
          "execution_count": 2
        }
      ],
      "source": [
        "#TODO: load dataset into variable M\n",
        "import numpy as np\n",
        "import pandas as pd\n",
        "M = np.array([[4, 3, 2, 3],\n",
        "            [1, 2, 3, 1],\n",
        "            [np.nan, 2, 1, np.nan],\n",
        "            [4, 3, np.nan, np.nan]])\n",
        "pd.DataFrame(M)"
      ]
    },
    {
      "cell_type": "markdown",
      "metadata": {
        "id": "7VbLAdhQCXme"
      },
      "source": [
        "### Compute similarities"
      ]
    },
    {
      "cell_type": "markdown",
      "metadata": {
        "id": "TPuh8_w-CXme"
      },
      "source": [
        "#### Cosine"
      ]
    },
    {
      "cell_type": "code",
      "execution_count": null,
      "metadata": {
        "id": "RENYpDiWCXmf"
      },
      "outputs": [],
      "source": [
        "import math\n",
        "def cosine_similarity(v1,v2, metric='cosine'):\n",
        "    #metric: cosine or correlation\n",
        "    if metric == 'correlation':\n",
        "        v1 = v1 - np.nanmean(v1)\n",
        "        v2 = v2 - np.nanmean(v2)\n",
        "    \"compute similarity of v1 to v2: (v1 dot v2)/{||v1||*||v2||)\"\n",
        "    sumxx, sumxy, sumyy = 0, 0, 0\n",
        "    for i in range(len(v1)):\n",
        "        x = v1[i]; y = v2[i]\n",
        "        if np.isnan(x) or np.isnan(y): continue\n",
        "        sumxx += x*x\n",
        "        sumyy += y*y\n",
        "        sumxy += x*y\n",
        "    return sumxy/math.sqrt(sumxx*sumyy)\n",
        "\n",
        "def sim_matrix(M, dimension='user', metric='cosine'):\n",
        "    N = M.shape[0] if dimension == 'user' else M.shape[1]\n",
        "    sim = np.zeros([N,N])\n",
        "    for i in range(N):\n",
        "        for j in range(N):\n",
        "            if i == j:\n",
        "                sim[i,j] = 0 #Cancel out the effect of self-similarity in the sums later\n",
        "                continue\n",
        "            if dimension == 'user':\n",
        "                v1, v2 = M[i,:], M[j,:]\n",
        "            else:\n",
        "                v1, v2 = M[:,i], M[:,j]\n",
        "            sim[i][j] = cosine_similarity(v1,v2,metric)\n",
        "    return sim"
      ]
    },
    {
      "cell_type": "code",
      "execution_count": null,
      "metadata": {
        "id": "IwXqjwkeCXmf",
        "outputId": "7908296c-247b-44c5-dcbc-dd916a8a7065",
        "colab": {
          "base_uri": "https://localhost:8080/"
        }
      },
      "outputs": [
        {
          "output_type": "execute_result",
          "data": {
            "text/plain": [
              "0.9922778767136677"
            ]
          },
          "metadata": {},
          "execution_count": 4
        }
      ],
      "source": [
        "cosine_similarity(M[0,:], M[2,:], 'cosine')"
      ]
    },
    {
      "cell_type": "code",
      "execution_count": null,
      "metadata": {
        "id": "HRsn-TZ3CXmf",
        "outputId": "d1ddc84c-6fda-43e2-f94c-bbeda5a2161b",
        "colab": {
          "base_uri": "https://localhost:8080/"
        }
      },
      "outputs": [
        {
          "output_type": "execute_result",
          "data": {
            "text/plain": [
              "array([[0.        , 0.79582243, 0.99227788, 1.        ],\n",
              "       [0.79582243, 0.        , 0.86824314, 0.89442719],\n",
              "       [0.99227788, 0.86824314, 0.        , 1.        ],\n",
              "       [1.        , 0.89442719, 1.        , 0.        ]])"
            ]
          },
          "metadata": {},
          "execution_count": 5
        }
      ],
      "source": [
        "sim_matrix(M, 'user')"
      ]
    },
    {
      "cell_type": "code",
      "execution_count": null,
      "metadata": {
        "id": "AtkrjTh1CXmg",
        "outputId": "d8807da1-3629-46a4-a9c8-89e815678036",
        "colab": {
          "base_uri": "https://localhost:8080/"
        }
      },
      "outputs": [
        {
          "output_type": "execute_result",
          "data": {
            "text/plain": [
              "array([[0.        , 0.9649505 , 0.73994007, 0.99705449],\n",
              "       [0.9649505 , 0.        , 0.90748521, 0.96476382],\n",
              "       [0.73994007, 0.90748521, 0.        , 0.78935222],\n",
              "       [0.99705449, 0.96476382, 0.78935222, 0.        ]])"
            ]
          },
          "metadata": {},
          "execution_count": 6
        }
      ],
      "source": [
        "sim_matrix(M, 'item')"
      ]
    },
    {
      "cell_type": "markdown",
      "metadata": {
        "id": "nuXHC-evCXmg"
      },
      "source": [
        "#### Pearson"
      ]
    },
    {
      "cell_type": "code",
      "execution_count": null,
      "metadata": {
        "id": "OzdbLfddCXmg",
        "outputId": "ae8dc0a7-ce6c-4696-c11b-6bafbd4f1db5",
        "colab": {
          "base_uri": "https://localhost:8080/"
        }
      },
      "outputs": [
        {
          "output_type": "execute_result",
          "data": {
            "text/plain": [
              "0.7071067811865475"
            ]
          },
          "metadata": {},
          "execution_count": 7
        }
      ],
      "source": [
        "cosine_similarity(M[0,:], M[2,:], 'correlation')"
      ]
    },
    {
      "cell_type": "code",
      "execution_count": null,
      "metadata": {
        "id": "SB5-8VBGCXmh",
        "outputId": "3184006c-a70d-4599-8660-c9fd222fb33f",
        "colab": {
          "base_uri": "https://localhost:8080/"
        }
      },
      "outputs": [
        {
          "output_type": "execute_result",
          "data": {
            "text/plain": [
              "array([[ 0.        , -0.85280287,  0.70710678,  0.70710678],\n",
              "       [-0.85280287,  0.        , -0.5547002 , -0.89442719],\n",
              "       [ 0.70710678, -0.5547002 ,  0.        , -1.        ],\n",
              "       [ 0.70710678, -0.89442719, -1.        ,  0.        ]])"
            ]
          },
          "metadata": {},
          "execution_count": 8
        }
      ],
      "source": [
        "sim_matrix(M, 'user', 'correlation')"
      ]
    },
    {
      "cell_type": "code",
      "execution_count": null,
      "metadata": {
        "id": "gBp89hlHCXmh",
        "outputId": "825997ba-8acf-42c2-f177-2ae67da8110c",
        "colab": {
          "base_uri": "https://localhost:8080/"
        }
      },
      "outputs": [
        {
          "output_type": "execute_result",
          "data": {
            "text/plain": [
              "array([[ 0.        ,  0.94280904, -0.89442719,  0.9486833 ],\n",
              "       [ 0.94280904,  0.        ,  0.        ,  1.        ],\n",
              "       [-0.89442719,  0.        ,  0.        , -0.70710678],\n",
              "       [ 0.9486833 ,  1.        , -0.70710678,  0.        ]])"
            ]
          },
          "metadata": {},
          "execution_count": 9
        }
      ],
      "source": [
        "sim_matrix(M, 'item', 'correlation')"
      ]
    },
    {
      "cell_type": "markdown",
      "metadata": {
        "id": "c_PQPoudCXmi"
      },
      "source": [
        "### a) Compute the missing rating in this table using user-based collaborative filtering (CF). (Use cosine similarity, then use Pearson similarity). Assume taking all neighbors"
      ]
    },
    {
      "cell_type": "code",
      "execution_count": null,
      "metadata": {
        "id": "JDwmpR7nCXmi"
      },
      "outputs": [],
      "source": [
        "def user_cf(M, metric='cosine'):\n",
        "    pred = np.copy(M)\n",
        "    n_users, n_items = M.shape\n",
        "    avg_ratings = np.nanmean(M, axis=1)\n",
        "    sim_users = sim_matrix(M, 'user', metric)\n",
        "    for i in range(n_users):\n",
        "        for j in range(n_items):\n",
        "            if np.isnan(M[i,j]):\n",
        "                pred[i,j] = #TODO: finish the calculation here\n",
        "    return pred"
      ]
    },
    {
      "cell_type": "code",
      "execution_count": null,
      "metadata": {
        "id": "A3PQtBtnCXmi",
        "outputId": "a10fb9bd-a929-40e5-ebf3-93e41e092f14"
      },
      "outputs": [
        {
          "name": "stdout",
          "output_type": "stream",
          "text": [
            "User-based CF (Cosine): \n",
            "          0    1         2         3\n",
            "0  4.000000  3.0  2.000000  3.000000\n",
            "1  1.000000  2.0  3.000000  1.000000\n",
            "2  1.794036  2.0  1.000000  1.272355\n",
            "3  4.000000  3.0  3.368034  3.268237\n",
            "User-based CF (Pearson): \n",
            "          0    1         2         3\n",
            "0  4.000000  3.0  2.000000  3.000000\n",
            "1  1.000000  2.0  3.000000  1.000000\n",
            "2  0.764822  2.0  1.000000  1.009169\n",
            "3  4.000000  3.0  4.616077  2.935013\n"
          ]
        }
      ],
      "source": [
        "print(\"User-based CF (Cosine): \\n\" + str(pd.DataFrame(user_cf(M, 'cosine'))))\n",
        "print(\"User-based CF (Pearson): \\n\" + str(pd.DataFrame(user_cf(M, 'correlation'))))"
      ]
    },
    {
      "cell_type": "markdown",
      "metadata": {
        "id": "ssjNExo4CXmj"
      },
      "source": [
        "### b) Similarly, computing the missing rating using item-based CF."
      ]
    },
    {
      "cell_type": "code",
      "execution_count": null,
      "metadata": {
        "id": "ZGwYU3ryCXmj"
      },
      "outputs": [],
      "source": [
        "def item_cf(M, metric='cosine'):\n",
        "    pred = np.copy(M)\n",
        "    n_users, n_items = M.shape\n",
        "    avg_ratings = np.nanmean(M, axis=0)\n",
        "    sim_items = sim_matrix(M, 'item', metric)\n",
        "    for i in range(n_users):\n",
        "        for j in range(n_items):\n",
        "            if np.isnan(M[i,j]):\n",
        "                pred[i,j] = #TODO: finish the calculation here\n",
        "    return pred"
      ]
    },
    {
      "cell_type": "code",
      "execution_count": null,
      "metadata": {
        "id": "eWP_IKIWCXmj",
        "outputId": "1a8861f7-7772-477b-821e-ef3b06b0cf6d"
      },
      "outputs": [
        {
          "name": "stdout",
          "output_type": "stream",
          "text": [
            "Item-based CF (Cosine): \n",
            "         0    1         2         3\n",
            "0  4.00000  3.0  2.000000  3.000000\n",
            "1  1.00000  2.0  3.000000  1.000000\n",
            "2  2.54758  2.0  1.000000  1.537748\n",
            "3  4.00000  3.0  2.489861  2.537748\n",
            "Item-based CF (Pearson): \n",
            "          0    1         2        3\n",
            "0  4.000000  3.0  2.000000  3.00000\n",
            "1  1.000000  2.0  3.000000  1.00000\n",
            "2  3.424268  2.0  1.000000  2.16681\n",
            "3  4.000000  3.0  2.558482  3.16681\n"
          ]
        }
      ],
      "source": [
        "print(\"Item-based CF (Cosine): \\n\" + str(pd.DataFrame(item_cf(M, 'cosine'))))\n",
        "print(\"Item-based CF (Pearson): \\n\" + str(pd.DataFrame(item_cf(M, 'correlation'))))"
      ]
    },
    {
      "cell_type": "markdown",
      "metadata": {
        "id": "ubgKAnoECXmj"
      },
      "source": [
        "## 2. Evaluating Recommendation Algorithms"
      ]
    },
    {
      "cell_type": "markdown",
      "metadata": {
        "id": "QCN0DWM0CXmk"
      },
      "source": [
        "### Predictive Accuracy"
      ]
    },
    {
      "cell_type": "code",
      "execution_count": null,
      "metadata": {
        "id": "qHJR1i-7CXmk",
        "outputId": "3772d15d-c4d4-4808-e3bc-44e022de3377"
      },
      "outputs": [
        {
          "data": {
            "text/html": [
              "<div>\n",
              "<style scoped>\n",
              "    .dataframe tbody tr th:only-of-type {\n",
              "        vertical-align: middle;\n",
              "    }\n",
              "\n",
              "    .dataframe tbody tr th {\n",
              "        vertical-align: top;\n",
              "    }\n",
              "\n",
              "    .dataframe thead th {\n",
              "        text-align: right;\n",
              "    }\n",
              "</style>\n",
              "<table border=\"1\" class=\"dataframe\">\n",
              "  <thead>\n",
              "    <tr style=\"text-align: right;\">\n",
              "      <th></th>\n",
              "      <th>0</th>\n",
              "      <th>1</th>\n",
              "      <th>2</th>\n",
              "      <th>3</th>\n",
              "    </tr>\n",
              "  </thead>\n",
              "  <tbody>\n",
              "    <tr>\n",
              "      <th>0</th>\n",
              "      <td>4</td>\n",
              "      <td>3</td>\n",
              "      <td>2</td>\n",
              "      <td>3</td>\n",
              "    </tr>\n",
              "    <tr>\n",
              "      <th>1</th>\n",
              "      <td>1</td>\n",
              "      <td>2</td>\n",
              "      <td>3</td>\n",
              "      <td>1</td>\n",
              "    </tr>\n",
              "    <tr>\n",
              "      <th>2</th>\n",
              "      <td>1</td>\n",
              "      <td>2</td>\n",
              "      <td>1</td>\n",
              "      <td>2</td>\n",
              "    </tr>\n",
              "    <tr>\n",
              "      <th>3</th>\n",
              "      <td>4</td>\n",
              "      <td>3</td>\n",
              "      <td>2</td>\n",
              "      <td>4</td>\n",
              "    </tr>\n",
              "  </tbody>\n",
              "</table>\n",
              "</div>"
            ],
            "text/plain": [
              "   0  1  2  3\n",
              "0  4  3  2  3\n",
              "1  1  2  3  1\n",
              "2  1  2  1  2\n",
              "3  4  3  2  4"
            ]
          },
          "execution_count": 21,
          "metadata": {},
          "output_type": "execute_result"
        }
      ],
      "source": [
        "M_result = np.asarray([[4,3,2,3], \n",
        "                [1,2,3,1],\n",
        "                [1,2,1,2],\n",
        "                [4,3,2,4]])\n",
        "pd.DataFrame(M_result)"
      ]
    },
    {
      "cell_type": "code",
      "execution_count": null,
      "metadata": {
        "id": "uS-iQ2BKCXmk"
      },
      "outputs": [],
      "source": [
        "def evaluateRS(ratings, groundtruth, method='user_cf', metric='cosine'):\n",
        "    #method: user_cf and item_cf, metric: cosine and correlation\n",
        "    if method == 'user_cf':\n",
        "        prediction = user_cf(ratings, metric)\n",
        "    else:\n",
        "        prediction = item_cf(ratings, metric)\n",
        "    MSE = mean_squared_error(prediction, groundtruth)\n",
        "    RMSE = round(sqrt(MSE),3)\n",
        "    print(\"RMSE using {0} approach ({2}) is: {1}\".format(method, RMSE, metric))\n",
        "    print(pd.DataFrame(prediction))\n",
        "    return"
      ]
    },
    {
      "cell_type": "code",
      "execution_count": null,
      "metadata": {
        "id": "F_hr9c5GCXmk",
        "outputId": "51908657-ee67-44e0-9e86-2e89ff0c5623"
      },
      "outputs": [
        {
          "name": "stdout",
          "output_type": "stream",
          "text": [
            "RMSE using user_cf approach (cosine) is: 0.472\n",
            "          0    1         2         3\n",
            "0  4.000000  3.0  2.000000  3.000000\n",
            "1  1.000000  2.0  3.000000  1.000000\n",
            "2  1.794036  2.0  1.000000  1.272355\n",
            "3  4.000000  3.0  3.368034  3.268237\n",
            "RMSE using user_cf approach (correlation) is: 0.751\n",
            "          0    1         2         3\n",
            "0  4.000000  3.0  2.000000  3.000000\n",
            "1  1.000000  2.0  3.000000  1.000000\n",
            "2  0.764822  2.0  1.000000  1.009169\n",
            "3  4.000000  3.0  4.616077  2.935013\n",
            "RMSE using item_cf approach (cosine) is: 0.558\n",
            "         0    1         2         3\n",
            "0  4.00000  3.0  2.000000  3.000000\n",
            "1  1.00000  2.0  3.000000  1.000000\n",
            "2  2.54758  2.0  1.000000  1.537748\n",
            "3  4.00000  3.0  2.489861  2.537748\n",
            "RMSE using item_cf approach (correlation) is: 0.657\n",
            "          0    1         2        3\n",
            "0  4.000000  3.0  2.000000  3.00000\n",
            "1  1.000000  2.0  3.000000  1.00000\n",
            "2  3.424268  2.0  1.000000  2.16681\n",
            "3  4.000000  3.0  2.558482  3.16681\n"
          ]
        }
      ],
      "source": [
        "#TODO: evaluate the predictive accuracy "
      ]
    },
    {
      "cell_type": "markdown",
      "metadata": {
        "id": "aRfJRAcJCXmk"
      },
      "source": [
        "### Ranking Accuracy"
      ]
    },
    {
      "cell_type": "code",
      "execution_count": null,
      "metadata": {
        "id": "b6wveHUgCXml",
        "outputId": "46fc58b3-9e44-404d-9535-c959152eca87"
      },
      "outputs": [
        {
          "name": "stdout",
          "output_type": "stream",
          "text": [
            "Rank accuracy of s with cosine metric: 0.6477056190747297\n",
            "Rank accuracy of s with correlation metric: 0.56719350585564\n",
            "Rank accuracy of t with cosine metric: 0.6369306393762916\n",
            "Rank accuracy of t with correlation metric: 0.7282177322938193\n"
          ]
        }
      ],
      "source": [
        "import scipy.stats as stats\n",
        "\n",
        "def evaluate_rank(ratings, groundtruth, method='user_cf', metric='cosine'):\n",
        "    #metric: cosine vs correlation\n",
        "    if method == 'user_cf':\n",
        "        prediction = user_cf(ratings, metric)\n",
        "    else:\n",
        "        prediction = item_cf(ratings, metric)\n",
        "    \n",
        "    avg_tau = 0\n",
        "    for i in range(n_users):\n",
        "        tau, p_value = stats.kendalltau(M_result[i,:], prediction[i,:])\n",
        "        avg_tau += tau\n",
        "    avg_tau = avg_tau / n_users\n",
        "    clear_output(wait=True)\n",
        "    return avg_tau\n",
        "\n",
        "\n",
        "#TODO: calculate the ranking accuracy\n"
      ]
    }
  ],
  "metadata": {
    "kernelspec": {
      "display_name": "Python 3",
      "language": "python",
      "name": "python3"
    },
    "language_info": {
      "codemirror_mode": {
        "name": "ipython",
        "version": 3
      },
      "file_extension": ".py",
      "mimetype": "text/x-python",
      "name": "python",
      "nbconvert_exporter": "python",
      "pygments_lexer": "ipython3",
      "version": "3.6.7"
    },
    "colab": {
      "provenance": []
    }
  },
  "nbformat": 4,
  "nbformat_minor": 0
}